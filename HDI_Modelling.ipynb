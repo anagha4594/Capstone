{
 "cells": [
  {
   "cell_type": "code",
   "execution_count": 1,
   "metadata": {
    "scrolled": true
   },
   "outputs": [
    {
     "data": {
      "text/plain": [
       "'3.7.0'"
      ]
     },
     "execution_count": 1,
     "metadata": {},
     "output_type": "execute_result"
    }
   ],
   "source": [
    "import numpy as np\n",
    "import pandas as pd\n",
    "import seaborn as sns\n",
    "import matplotlib.pyplot as plt\n",
    "%matplotlib inline\n",
    "import plotly\n",
    "plotly.__version__"
   ]
  },
  {
   "cell_type": "code",
   "execution_count": 2,
   "metadata": {},
   "outputs": [
    {
     "data": {
      "text/html": [
       "<div>\n",
       "<style scoped>\n",
       "    .dataframe tbody tr th:only-of-type {\n",
       "        vertical-align: middle;\n",
       "    }\n",
       "\n",
       "    .dataframe tbody tr th {\n",
       "        vertical-align: top;\n",
       "    }\n",
       "\n",
       "    .dataframe thead th {\n",
       "        text-align: right;\n",
       "    }\n",
       "</style>\n",
       "<table border=\"1\" class=\"dataframe\">\n",
       "  <thead>\n",
       "    <tr style=\"text-align: right;\">\n",
       "      <th></th>\n",
       "      <th>Year</th>\n",
       "      <th>Afghanistan</th>\n",
       "      <th>Albania</th>\n",
       "      <th>Algeria</th>\n",
       "      <th>Andorra</th>\n",
       "      <th>Angola</th>\n",
       "      <th>Antigua and Barbuda</th>\n",
       "      <th>Argentina</th>\n",
       "      <th>Armenia</th>\n",
       "      <th>Australia</th>\n",
       "      <th>...</th>\n",
       "      <th>United Kingdom</th>\n",
       "      <th>United States</th>\n",
       "      <th>Uruguay</th>\n",
       "      <th>Uzbekistan</th>\n",
       "      <th>Vanuatu</th>\n",
       "      <th>Venezuela (Bolivarian Republic of)</th>\n",
       "      <th>Viet Nam</th>\n",
       "      <th>Yemen</th>\n",
       "      <th>Zambia</th>\n",
       "      <th>Zimbabwe</th>\n",
       "    </tr>\n",
       "  </thead>\n",
       "  <tbody>\n",
       "    <tr>\n",
       "      <th>0</th>\n",
       "      <td>1990</td>\n",
       "      <td>NaN</td>\n",
       "      <td>0.645</td>\n",
       "      <td>0.577</td>\n",
       "      <td>NaN</td>\n",
       "      <td>NaN</td>\n",
       "      <td>NaN</td>\n",
       "      <td>0.704</td>\n",
       "      <td>0.631</td>\n",
       "      <td>0.866</td>\n",
       "      <td>...</td>\n",
       "      <td>0.775</td>\n",
       "      <td>0.860</td>\n",
       "      <td>0.692</td>\n",
       "      <td>NaN</td>\n",
       "      <td>NaN</td>\n",
       "      <td>0.634</td>\n",
       "      <td>0.475</td>\n",
       "      <td>0.399</td>\n",
       "      <td>0.401</td>\n",
       "      <td>0.491</td>\n",
       "    </tr>\n",
       "    <tr>\n",
       "      <th>1</th>\n",
       "      <td>1991</td>\n",
       "      <td>NaN</td>\n",
       "      <td>0.626</td>\n",
       "      <td>0.581</td>\n",
       "      <td>NaN</td>\n",
       "      <td>NaN</td>\n",
       "      <td>NaN</td>\n",
       "      <td>0.713</td>\n",
       "      <td>0.628</td>\n",
       "      <td>0.867</td>\n",
       "      <td>...</td>\n",
       "      <td>0.788</td>\n",
       "      <td>0.861</td>\n",
       "      <td>0.697</td>\n",
       "      <td>NaN</td>\n",
       "      <td>NaN</td>\n",
       "      <td>0.644</td>\n",
       "      <td>0.484</td>\n",
       "      <td>0.403</td>\n",
       "      <td>0.402</td>\n",
       "      <td>0.494</td>\n",
       "    </tr>\n",
       "    <tr>\n",
       "      <th>2</th>\n",
       "      <td>1992</td>\n",
       "      <td>NaN</td>\n",
       "      <td>0.610</td>\n",
       "      <td>0.587</td>\n",
       "      <td>NaN</td>\n",
       "      <td>NaN</td>\n",
       "      <td>NaN</td>\n",
       "      <td>0.720</td>\n",
       "      <td>0.580</td>\n",
       "      <td>0.868</td>\n",
       "      <td>...</td>\n",
       "      <td>0.801</td>\n",
       "      <td>0.867</td>\n",
       "      <td>0.700</td>\n",
       "      <td>NaN</td>\n",
       "      <td>NaN</td>\n",
       "      <td>0.651</td>\n",
       "      <td>0.496</td>\n",
       "      <td>0.405</td>\n",
       "      <td>0.403</td>\n",
       "      <td>0.481</td>\n",
       "    </tr>\n",
       "    <tr>\n",
       "      <th>3</th>\n",
       "      <td>1993</td>\n",
       "      <td>NaN</td>\n",
       "      <td>0.613</td>\n",
       "      <td>0.591</td>\n",
       "      <td>NaN</td>\n",
       "      <td>NaN</td>\n",
       "      <td>NaN</td>\n",
       "      <td>0.725</td>\n",
       "      <td>0.588</td>\n",
       "      <td>0.872</td>\n",
       "      <td>...</td>\n",
       "      <td>0.814</td>\n",
       "      <td>0.871</td>\n",
       "      <td>0.703</td>\n",
       "      <td>NaN</td>\n",
       "      <td>NaN</td>\n",
       "      <td>0.653</td>\n",
       "      <td>0.506</td>\n",
       "      <td>0.408</td>\n",
       "      <td>0.409</td>\n",
       "      <td>0.476</td>\n",
       "    </tr>\n",
       "    <tr>\n",
       "      <th>4</th>\n",
       "      <td>1994</td>\n",
       "      <td>NaN</td>\n",
       "      <td>0.619</td>\n",
       "      <td>0.595</td>\n",
       "      <td>NaN</td>\n",
       "      <td>NaN</td>\n",
       "      <td>NaN</td>\n",
       "      <td>0.728</td>\n",
       "      <td>0.599</td>\n",
       "      <td>0.875</td>\n",
       "      <td>...</td>\n",
       "      <td>0.827</td>\n",
       "      <td>0.875</td>\n",
       "      <td>0.709</td>\n",
       "      <td>NaN</td>\n",
       "      <td>NaN</td>\n",
       "      <td>0.654</td>\n",
       "      <td>0.517</td>\n",
       "      <td>0.409</td>\n",
       "      <td>0.408</td>\n",
       "      <td>0.473</td>\n",
       "    </tr>\n",
       "  </tbody>\n",
       "</table>\n",
       "<p>5 rows × 190 columns</p>\n",
       "</div>"
      ],
      "text/plain": [
       "   Year  Afghanistan   Albania  Algeria  Andorra  Angola  \\\n",
       "0  1990          NaN     0.645    0.577      NaN     NaN   \n",
       "1  1991          NaN     0.626    0.581      NaN     NaN   \n",
       "2  1992          NaN     0.610    0.587      NaN     NaN   \n",
       "3  1993          NaN     0.613    0.591      NaN     NaN   \n",
       "4  1994          NaN     0.619    0.595      NaN     NaN   \n",
       "\n",
       "    Antigua and Barbuda   Argentina   Armenia   Australia    ...      \\\n",
       "0                   NaN       0.704     0.631       0.866    ...       \n",
       "1                   NaN       0.713     0.628       0.867    ...       \n",
       "2                   NaN       0.720     0.580       0.868    ...       \n",
       "3                   NaN       0.725     0.588       0.872    ...       \n",
       "4                   NaN       0.728     0.599       0.875    ...       \n",
       "\n",
       "    United Kingdom  United States   Uruguay   Uzbekistan   Vanuatu  \\\n",
       "0            0.775          0.860     0.692          NaN       NaN   \n",
       "1            0.788          0.861     0.697          NaN       NaN   \n",
       "2            0.801          0.867     0.700          NaN       NaN   \n",
       "3            0.814          0.871     0.703          NaN       NaN   \n",
       "4            0.827          0.875     0.709          NaN       NaN   \n",
       "\n",
       "    Venezuela (Bolivarian Republic of)   Viet Nam   Yemen   Zambia   Zimbabwe  \n",
       "0                                0.634      0.475   0.399    0.401      0.491  \n",
       "1                                0.644      0.484   0.403    0.402      0.494  \n",
       "2                                0.651      0.496   0.405    0.403      0.481  \n",
       "3                                0.653      0.506   0.408    0.409      0.476  \n",
       "4                                0.654      0.517   0.409    0.408      0.473  \n",
       "\n",
       "[5 rows x 190 columns]"
      ]
     },
     "execution_count": 2,
     "metadata": {},
     "output_type": "execute_result"
    }
   ],
   "source": [
    "#Importing the HDI data\n",
    "data=pd.read_csv('Human Development Index (HDI).csv',encoding='cp1252')\n",
    "data.head()"
   ]
  },
  {
   "cell_type": "code",
   "execution_count": 3,
   "metadata": {},
   "outputs": [
    {
     "data": {
      "text/plain": [
       "Index(['Year', 'Afghanistan', ' Albania', 'Algeria', 'Andorra', 'Angola',\n",
       "       ' Antigua and Barbuda', ' Argentina', ' Armenia', ' Australia',\n",
       "       ...\n",
       "       ' United Kingdom', 'United States', ' Uruguay', ' Uzbekistan',\n",
       "       ' Vanuatu', ' Venezuela (Bolivarian Republic of)', ' Viet Nam',\n",
       "       ' Yemen', ' Zambia', ' Zimbabwe'],\n",
       "      dtype='object', length=190)"
      ]
     },
     "execution_count": 3,
     "metadata": {},
     "output_type": "execute_result"
    }
   ],
   "source": [
    "# Column names\n",
    "data.columns"
   ]
  },
  {
   "cell_type": "code",
   "execution_count": 4,
   "metadata": {},
   "outputs": [
    {
     "data": {
      "text/plain": [
       "(28, 190)"
      ]
     },
     "execution_count": 4,
     "metadata": {},
     "output_type": "execute_result"
    }
   ],
   "source": [
    "data.shape"
   ]
  },
  {
   "cell_type": "code",
   "execution_count": 5,
   "metadata": {},
   "outputs": [],
   "source": [
    "# Removing the leading space in each country names\n",
    "col=[]\n",
    "for i in data.columns:\n",
    "    col.append(i.lstrip())\n",
    "    \n",
    "#print(col)   \n",
    "data.columns=col"
   ]
  },
  {
   "cell_type": "markdown",
   "metadata": {},
   "source": [
    "# Null Value check"
   ]
  },
  {
   "cell_type": "code",
   "execution_count": 6,
   "metadata": {},
   "outputs": [
    {
     "data": {
      "text/plain": [
       "0.0"
      ]
     },
     "execution_count": 6,
     "metadata": {},
     "output_type": "execute_result"
    }
   ],
   "source": [
    "data.India.isnull().sum()*100/len(data)"
   ]
  },
  {
   "cell_type": "code",
   "execution_count": 7,
   "metadata": {},
   "outputs": [
    {
     "data": {
      "text/plain": [
       "0.0"
      ]
     },
     "execution_count": 7,
     "metadata": {},
     "output_type": "execute_result"
    }
   ],
   "source": [
    "data[\"South Africa\"].isnull().sum()*100/len(data)"
   ]
  },
  {
   "cell_type": "code",
   "execution_count": 8,
   "metadata": {},
   "outputs": [
    {
     "data": {
      "text/plain": [
       "0.0"
      ]
     },
     "execution_count": 8,
     "metadata": {},
     "output_type": "execute_result"
    }
   ],
   "source": [
    "data[\"United States\"].isnull().sum()*100/len(data)"
   ]
  },
  {
   "cell_type": "markdown",
   "metadata": {},
   "source": [
    "# India\n",
    "### Train test split"
   ]
  },
  {
   "cell_type": "code",
   "execution_count": 9,
   "metadata": {},
   "outputs": [
    {
     "data": {
      "text/plain": [
       "1990-12-31    0.427\n",
       "1991-12-31    0.432\n",
       "1992-12-31    0.438\n",
       "1993-12-31    0.445\n",
       "1994-12-31    0.452\n",
       "Freq: A-DEC, Name: India, dtype: float64"
      ]
     },
     "execution_count": 9,
     "metadata": {},
     "output_type": "execute_result"
    }
   ],
   "source": [
    "df=data['India']\n",
    "\n",
    "date_range=pd.date_range(start='1/1/1990',end='31/12/2017',freq='y')\n",
    "date_range\n",
    "df.index=date_range\n",
    "df.head()\n"
   ]
  },
  {
   "cell_type": "code",
   "execution_count": 10,
   "metadata": {},
   "outputs": [
    {
     "data": {
      "text/plain": [
       "2013-12-31    0.607\n",
       "2014-12-31    0.618\n",
       "2015-12-31    0.627\n",
       "2016-12-31    0.636\n",
       "2017-12-31    0.640\n",
       "Freq: A-DEC, Name: India, dtype: float64"
      ]
     },
     "execution_count": 10,
     "metadata": {},
     "output_type": "execute_result"
    }
   ],
   "source": [
    "df.tail()"
   ]
  },
  {
   "cell_type": "code",
   "execution_count": 11,
   "metadata": {},
   "outputs": [
    {
     "data": {
      "image/png": "[encoded data removed]",
      "text/plain": [
       "<Figure size 432x288 with 1 Axes>"
      ]
     },
     "metadata": {
      "needs_background": "light"
     },
     "output_type": "display_data"
    }
   ],
   "source": [
    "#Creating train and test set \n",
    "train=data[0:int(len(data)*0.7)] \n",
    "test=data[int(len(data)*0.7):]\n",
    "\n",
    "type(train)\n",
    "train.head()\n",
    "\n",
    "# SImple Plot of Test and train data\n",
    "sns.lineplot(train.Year,train['India'],ci=None)\n",
    "sns.lineplot(test.Year,test['India'],ci=None)\n",
    "plt.show()"
   ]
  },
  {
   "cell_type": "code",
   "execution_count": 12,
   "metadata": {},
   "outputs": [
    {
     "data": {
      "text/plain": [
       "Text(0.5,1,'RSS: 7.5534')"
      ]
     },
     "execution_count": 12,
     "metadata": {},
     "output_type": "execute_result"
    },
    {
     "data": {
      "image/png": "[encoded data removed]",
      "text/plain": [
       "<Figure size 432x288 with 1 Axes>"
      ]
     },
     "metadata": {
      "needs_background": "light"
     },
     "output_type": "display_data"
    }
   ],
   "source": [
    "# ARIMA model\n",
    "ts=data.India\n",
    "from statsmodels.tsa.arima_model import ARIMA\n",
    "model = ARIMA(ts, order=(0, 2, 1)) \n",
    "results_ARIMA = model.fit()  \n",
    "plt.plot(ts)\n",
    "plt.plot(results_ARIMA.fittedvalues, color='red')\n",
    "plt.title('RSS: %.4f'% sum((results_ARIMA.fittedvalues-ts[2:])**2))"
   ]
  },
  {
   "cell_type": "code",
   "execution_count": 13,
   "metadata": {},
   "outputs": [
    {
     "data": {
      "text/plain": [
       "1992-12-31    0.000103\n",
       "1993-12-31   -0.000346\n",
       "1994-12-31   -0.000795\n",
       "1995-12-31   -0.000494\n",
       "1996-12-31   -0.001092\n",
       "1997-12-31    0.000026\n",
       "1998-12-31    0.000982\n",
       "1999-12-31    0.000087\n",
       "2000-12-31   -0.000709\n",
       "2001-12-31    0.002164\n",
       "2002-12-31    0.002070\n",
       "2003-12-31    0.001083\n",
       "2004-12-31   -0.005359\n",
       "2005-12-31   -0.001159\n",
       "2006-12-31   -0.000979\n",
       "2007-12-31   -0.001753\n",
       "2008-12-31   -0.002489\n",
       "2009-12-31    0.000585\n",
       "2010-12-31    0.002552\n",
       "2011-12-31   -0.002223\n",
       "2012-12-31   -0.001062\n",
       "2013-12-31    0.000043\n",
       "2014-12-31    0.002057\n",
       "2015-12-31   -0.001760\n",
       "2016-12-31    0.000333\n",
       "2017-12-31    0.000423\n",
       "Freq: A-DEC, dtype: float64"
      ]
     },
     "execution_count": 13,
     "metadata": {},
     "output_type": "execute_result"
    }
   ],
   "source": [
    "results_ARIMA.fittedvalues\n"
   ]
  },
  {
   "cell_type": "code",
   "execution_count": 14,
   "metadata": {
    "scrolled": true
   },
   "outputs": [
    {
     "data": {
      "text/html": [
       "<table class=\"simpletable\">\n",
       "<caption>ARIMA Model Results</caption>\n",
       "<tr>\n",
       "  <th>Dep. Variable:</th>     <td>D2.India</td>     <th>  No. Observations:  </th>    <td>26</td>   \n",
       "</tr>\n",
       "<tr>\n",
       "  <th>Model:</th>          <td>ARIMA(0, 2, 1)</td>  <th>  Log Likelihood     </th>  <td>122.142</td>\n",
       "</tr>\n",
       "<tr>\n",
       "  <th>Method:</th>             <td>css-mle</td>     <th>  S.D. of innovations</th>   <td>0.002</td> \n",
       "</tr>\n",
       "<tr>\n",
       "  <th>Date:</th>          <td>Mon, 01 Apr 2019</td> <th>  AIC                </th> <td>-238.283</td>\n",
       "</tr>\n",
       "<tr>\n",
       "  <th>Time:</th>              <td>22:37:04</td>     <th>  BIC                </th> <td>-234.509</td>\n",
       "</tr>\n",
       "<tr>\n",
       "  <th>Sample:</th>           <td>12-31-1992</td>    <th>  HQIC               </th> <td>-237.197</td>\n",
       "</tr>\n",
       "<tr>\n",
       "  <th></th>                 <td>- 12-31-2017</td>   <th>                     </th>     <td> </td>   \n",
       "</tr>\n",
       "</table>\n",
       "<table class=\"simpletable\">\n",
       "<tr>\n",
       "         <td></td>           <th>coef</th>     <th>std err</th>      <th>z</th>      <th>P>|z|</th>  <th>[0.025</th>    <th>0.975]</th>  \n",
       "</tr>\n",
       "<tr>\n",
       "  <th>const</th>          <td>    0.0001</td> <td> 5.12e-05</td> <td>    2.005</td> <td> 0.056</td> <td>  2.3e-06</td> <td>    0.000</td>\n",
       "</tr>\n",
       "<tr>\n",
       "  <th>ma.L1.D2.India</th> <td>   -0.9998</td> <td>    0.163</td> <td>   -6.117</td> <td> 0.000</td> <td>   -1.320</td> <td>   -0.679</td>\n",
       "</tr>\n",
       "</table>\n",
       "<table class=\"simpletable\">\n",
       "<caption>Roots</caption>\n",
       "<tr>\n",
       "    <td></td>   <th>            Real</th>  <th>         Imaginary</th> <th>         Modulus</th>  <th>        Frequency</th>\n",
       "</tr>\n",
       "<tr>\n",
       "  <th>MA.1</th> <td>           1.0002</td> <td>          +0.0000j</td> <td>           1.0002</td> <td>           0.0000</td>\n",
       "</tr>\n",
       "</table>"
      ],
      "text/plain": [
       "<class 'statsmodels.iolib.summary.Summary'>\n",
       "\"\"\"\n",
       "                             ARIMA Model Results                              \n",
       "==============================================================================\n",
       "Dep. Variable:               D2.India   No. Observations:                   26\n",
       "Model:                 ARIMA(0, 2, 1)   Log Likelihood                 122.142\n",
       "Method:                       css-mle   S.D. of innovations              0.002\n",
       "Date:                Mon, 01 Apr 2019   AIC                           -238.283\n",
       "Time:                        22:37:04   BIC                           -234.509\n",
       "Sample:                    12-31-1992   HQIC                          -237.197\n",
       "                         - 12-31-2017                                         \n",
       "==================================================================================\n",
       "                     coef    std err          z      P>|z|      [0.025      0.975]\n",
       "----------------------------------------------------------------------------------\n",
       "const              0.0001   5.12e-05      2.005      0.056     2.3e-06       0.000\n",
       "ma.L1.D2.India    -0.9998      0.163     -6.117      0.000      -1.320      -0.679\n",
       "                                    Roots                                    \n",
       "=============================================================================\n",
       "                  Real          Imaginary           Modulus         Frequency\n",
       "-----------------------------------------------------------------------------\n",
       "MA.1            1.0002           +0.0000j            1.0002            0.0000\n",
       "-----------------------------------------------------------------------------\n",
       "\"\"\""
      ]
     },
     "execution_count": 14,
     "metadata": {},
     "output_type": "execute_result"
    }
   ],
   "source": [
    "# ARIMA model summary\n",
    "results_ARIMA.summary()"
   ]
  },
  {
   "cell_type": "code",
   "execution_count": 15,
   "metadata": {},
   "outputs": [
    {
     "name": "stdout",
     "output_type": "stream",
     "text": [
      "26\n"
     ]
    },
    {
     "data": {
      "text/plain": [
       "0    NaN\n",
       "1    NaN\n",
       "2    NaN\n",
       "3    NaN\n",
       "4    NaN\n",
       "5    NaN\n",
       "6    NaN\n",
       "7    NaN\n",
       "8    NaN\n",
       "9    NaN\n",
       "10   NaN\n",
       "11   NaN\n",
       "12   NaN\n",
       "13   NaN\n",
       "14   NaN\n",
       "15   NaN\n",
       "16   NaN\n",
       "17   NaN\n",
       "18   NaN\n",
       "19   NaN\n",
       "20   NaN\n",
       "21   NaN\n",
       "22   NaN\n",
       "23   NaN\n",
       "24   NaN\n",
       "25   NaN\n",
       "26   NaN\n",
       "27   NaN\n",
       "Name: Forecasted_India, dtype: float64"
      ]
     },
     "execution_count": 15,
     "metadata": {},
     "output_type": "execute_result"
    }
   ],
   "source": [
    "# Predicting the values for Training part\n",
    "\n",
    "pred=results_ARIMA.predict()\n",
    "print(len(pred))\n",
    "data['Forecasted_India']=pred\n",
    "data['Forecasted_India']"
   ]
  },
  {
   "cell_type": "code",
   "execution_count": 16,
   "metadata": {},
   "outputs": [
    {
     "data": {
      "image/png": "[encoded data removed]",
      "text/plain": [
       "<Figure size 720x432 with 1 Axes>"
      ]
     },
     "metadata": {
      "needs_background": "light"
     },
     "output_type": "display_data"
    }
   ],
   "source": [
    "axis = data['India'].plot(label='Original', figsize=(10, 6))\n",
    "#df['Positive Indicators'].plot(ax=axis, label='Test', alpha=0.7)\n",
    "data['Forecasted_India'].plot(ax=axis, label='Forecasted', alpha=0.7)\n",
    "axis.set_xlabel('Years')\n",
    "axis.set_ylabel('India')\n",
    "plt.legend(loc='best')\n",
    "plt.show()\n",
    "plt.close()"
   ]
  },
  {
   "cell_type": "code",
   "execution_count": 17,
   "metadata": {},
   "outputs": [
    {
     "name": "stderr",
     "output_type": "stream",
     "text": [
      "C:\\Users\\HII\\Anaconda3\\lib\\site-packages\\scipy\\signal\\signaltools.py:1344: FutureWarning:\n",
      "\n",
      "Using a non-tuple sequence for multidimensional indexing is deprecated; use `arr[tuple(seq)]` instead of `arr[seq]`. In the future this will be interpreted as an array index, `arr[np.array(seq)]`, which will result either in an error or a different result.\n",
      "\n"
     ]
    }
   ],
   "source": [
    "forecast=results_ARIMA.forecast(steps=5,alpha=0.95)\n",
    "LI=[]\n",
    "UI=[]\n",
    "for i in forecast[2]:\n",
    "    LI.append(i[0])\n",
    "    UI.append(i[1])"
   ]
  },
  {
   "cell_type": "code",
   "execution_count": 18,
   "metadata": {
    "scrolled": true
   },
   "outputs": [
    {
     "data": {
      "text/html": [
       "<div>\n",
       "<style scoped>\n",
       "    .dataframe tbody tr th:only-of-type {\n",
       "        vertical-align: middle;\n",
       "    }\n",
       "\n",
       "    .dataframe tbody tr th {\n",
       "        vertical-align: top;\n",
       "    }\n",
       "\n",
       "    .dataframe thead th {\n",
       "        text-align: right;\n",
       "    }\n",
       "</style>\n",
       "<table border=\"1\" class=\"dataframe\">\n",
       "  <thead>\n",
       "    <tr style=\"text-align: right;\">\n",
       "      <th></th>\n",
       "      <th>Forecast</th>\n",
       "      <th>Standard Error</th>\n",
       "      <th>CI lower</th>\n",
       "      <th>CI Upper</th>\n",
       "    </tr>\n",
       "  </thead>\n",
       "  <tbody>\n",
       "    <tr>\n",
       "      <th>2018-12-31</th>\n",
       "      <td>0.649524</td>\n",
       "      <td>0.002070</td>\n",
       "      <td>0.649395</td>\n",
       "      <td>0.649654</td>\n",
       "    </tr>\n",
       "    <tr>\n",
       "      <th>2019-12-31</th>\n",
       "      <td>0.659151</td>\n",
       "      <td>0.002928</td>\n",
       "      <td>0.658968</td>\n",
       "      <td>0.659335</td>\n",
       "    </tr>\n",
       "    <tr>\n",
       "      <th>2020-12-31</th>\n",
       "      <td>0.668881</td>\n",
       "      <td>0.003587</td>\n",
       "      <td>0.668656</td>\n",
       "      <td>0.669106</td>\n",
       "    </tr>\n",
       "    <tr>\n",
       "      <th>2021-12-31</th>\n",
       "      <td>0.678713</td>\n",
       "      <td>0.004142</td>\n",
       "      <td>0.678453</td>\n",
       "      <td>0.678973</td>\n",
       "    </tr>\n",
       "    <tr>\n",
       "      <th>2022-12-31</th>\n",
       "      <td>0.688648</td>\n",
       "      <td>0.004632</td>\n",
       "      <td>0.688357</td>\n",
       "      <td>0.688938</td>\n",
       "    </tr>\n",
       "  </tbody>\n",
       "</table>\n",
       "</div>"
      ],
      "text/plain": [
       "            Forecast  Standard Error  CI lower  CI Upper\n",
       "2018-12-31  0.649524        0.002070  0.649395  0.649654\n",
       "2019-12-31  0.659151        0.002928  0.658968  0.659335\n",
       "2020-12-31  0.668881        0.003587  0.668656  0.669106\n",
       "2021-12-31  0.678713        0.004142  0.678453  0.678973\n",
       "2022-12-31  0.688648        0.004632  0.688357  0.688938"
      ]
     },
     "execution_count": 18,
     "metadata": {},
     "output_type": "execute_result"
    }
   ],
   "source": [
    "df_new=pd.DataFrame({'Forecast':forecast[0],'Standard Error':forecast[1],'CI lower':LI,'CI Upper':UI})\n",
    "\n",
    "time=pd.date_range(start='1/1/2018',end='31/12/2022',freq='y')\n",
    "df_new.index=time\n",
    "df_new"
   ]
  },
  {
   "cell_type": "code",
   "execution_count": 19,
   "metadata": {},
   "outputs": [
    {
     "data": {
      "image/png": "[encoded data removed]",
      "text/plain": [
       "<Figure size 432x288 with 1 Axes>"
      ]
     },
     "metadata": {
      "needs_background": "light"
     },
     "output_type": "display_data"
    }
   ],
   "source": [
    "sns.lineplot(df.index,df.values,ci=None,label='Original')\n",
    "sns.lineplot(df_new.index,df_new['Forecast'],ci=None,label='Forecasted')\n",
    "plt.title('HDI India')\n",
    "plt.xlabel('Years')\n",
    "plt.legend()\n",
    "plt.savefig('HDI India.jpg')\n",
    "plt.show()\n"
   ]
  },
  {
   "cell_type": "code",
   "execution_count": 20,
   "metadata": {},
   "outputs": [
    {
     "name": "stdout",
     "output_type": "stream",
     "text": [
      "The MAPE value for ARIMA model is : nan\n",
      "The RMSE value for ARIMA model is : nan\n"
     ]
    }
   ],
   "source": [
    "from sklearn.metrics import  accuracy_score\n",
    "\n",
    "# MAPE calculation function\n",
    "def mean_absolute_percentage_error(y_true, y_pred): \n",
    "    y_true, y_pred = np.array(y_true), np.array(y_pred)\n",
    "    return np.mean(np.abs((y_true - y_pred) / y_true)) * 100\n",
    "\n",
    "\n",
    "mape=mean_absolute_percentage_error(data['India'][4:],data['Forecasted_India'][4:])\n",
    "#MAPE.append(mape)\n",
    "print('The MAPE value for ARIMA model is :',mape)\n",
    "mse = ((data['India'][4:] - data['Forecasted_India'][4:]) ** 2).mean()\n",
    "rmse = np.sqrt(mse)\n",
    "print('The RMSE value for ARIMA model is :',rmse)\n",
    "#RMSE.append(rmse)"
   ]
  },
  {
   "cell_type": "markdown",
   "metadata": {},
   "source": [
    "# South Africa\n",
    "### Train test split"
   ]
  },
  {
   "cell_type": "code",
   "execution_count": 21,
   "metadata": {},
   "outputs": [
    {
     "data": {
      "text/html": [
       "<div>\n",
       "<style scoped>\n",
       "    .dataframe tbody tr th:only-of-type {\n",
       "        vertical-align: middle;\n",
       "    }\n",
       "\n",
       "    .dataframe tbody tr th {\n",
       "        vertical-align: top;\n",
       "    }\n",
       "\n",
       "    .dataframe thead th {\n",
       "        text-align: right;\n",
       "    }\n",
       "</style>\n",
       "<table border=\"1\" class=\"dataframe\">\n",
       "  <thead>\n",
       "    <tr style=\"text-align: right;\">\n",
       "      <th></th>\n",
       "      <th>South Africa</th>\n",
       "    </tr>\n",
       "  </thead>\n",
       "  <tbody>\n",
       "    <tr>\n",
       "      <th>1990-12-31</th>\n",
       "      <td>0.618</td>\n",
       "    </tr>\n",
       "    <tr>\n",
       "      <th>1991-12-31</th>\n",
       "      <td>0.626</td>\n",
       "    </tr>\n",
       "    <tr>\n",
       "      <th>1992-12-31</th>\n",
       "      <td>0.635</td>\n",
       "    </tr>\n",
       "    <tr>\n",
       "      <th>1993-12-31</th>\n",
       "      <td>0.641</td>\n",
       "    </tr>\n",
       "    <tr>\n",
       "      <th>1994-12-31</th>\n",
       "      <td>0.645</td>\n",
       "    </tr>\n",
       "    <tr>\n",
       "      <th>1995-12-31</th>\n",
       "      <td>0.649</td>\n",
       "    </tr>\n",
       "    <tr>\n",
       "      <th>1996-12-31</th>\n",
       "      <td>0.647</td>\n",
       "    </tr>\n",
       "    <tr>\n",
       "      <th>1997-12-31</th>\n",
       "      <td>0.644</td>\n",
       "    </tr>\n",
       "    <tr>\n",
       "      <th>1998-12-31</th>\n",
       "      <td>0.639</td>\n",
       "    </tr>\n",
       "    <tr>\n",
       "      <th>1999-12-31</th>\n",
       "      <td>0.634</td>\n",
       "    </tr>\n",
       "  </tbody>\n",
       "</table>\n",
       "</div>"
      ],
      "text/plain": [
       "            South Africa\n",
       "1990-12-31         0.618\n",
       "1991-12-31         0.626\n",
       "1992-12-31         0.635\n",
       "1993-12-31         0.641\n",
       "1994-12-31         0.645\n",
       "1995-12-31         0.649\n",
       "1996-12-31         0.647\n",
       "1997-12-31         0.644\n",
       "1998-12-31         0.639\n",
       "1999-12-31         0.634"
      ]
     },
     "execution_count": 21,
     "metadata": {},
     "output_type": "execute_result"
    }
   ],
   "source": [
    "df=data.loc[:,['South Africa']]\n",
    "date_range=pd.date_range(start='1/1/1990',end='31/12/2017',freq='y')\n",
    "date_range\n",
    "df.index=date_range\n",
    "df.head(10)"
   ]
  },
  {
   "cell_type": "code",
   "execution_count": 22,
   "metadata": {},
   "outputs": [
    {
     "data": {
      "text/html": [
       "<div>\n",
       "<style scoped>\n",
       "    .dataframe tbody tr th:only-of-type {\n",
       "        vertical-align: middle;\n",
       "    }\n",
       "\n",
       "    .dataframe tbody tr th {\n",
       "        vertical-align: top;\n",
       "    }\n",
       "\n",
       "    .dataframe thead th {\n",
       "        text-align: right;\n",
       "    }\n",
       "</style>\n",
       "<table border=\"1\" class=\"dataframe\">\n",
       "  <thead>\n",
       "    <tr style=\"text-align: right;\">\n",
       "      <th></th>\n",
       "      <th>South Africa</th>\n",
       "    </tr>\n",
       "  </thead>\n",
       "  <tbody>\n",
       "    <tr>\n",
       "      <th>2008-12-31</th>\n",
       "      <td>0.633</td>\n",
       "    </tr>\n",
       "    <tr>\n",
       "      <th>2009-12-31</th>\n",
       "      <td>0.642</td>\n",
       "    </tr>\n",
       "    <tr>\n",
       "      <th>2010-12-31</th>\n",
       "      <td>0.649</td>\n",
       "    </tr>\n",
       "    <tr>\n",
       "      <th>2011-12-31</th>\n",
       "      <td>0.657</td>\n",
       "    </tr>\n",
       "    <tr>\n",
       "      <th>2012-12-31</th>\n",
       "      <td>0.664</td>\n",
       "    </tr>\n",
       "    <tr>\n",
       "      <th>2013-12-31</th>\n",
       "      <td>0.675</td>\n",
       "    </tr>\n",
       "    <tr>\n",
       "      <th>2014-12-31</th>\n",
       "      <td>0.685</td>\n",
       "    </tr>\n",
       "    <tr>\n",
       "      <th>2015-12-31</th>\n",
       "      <td>0.692</td>\n",
       "    </tr>\n",
       "    <tr>\n",
       "      <th>2016-12-31</th>\n",
       "      <td>0.696</td>\n",
       "    </tr>\n",
       "    <tr>\n",
       "      <th>2017-12-31</th>\n",
       "      <td>0.699</td>\n",
       "    </tr>\n",
       "  </tbody>\n",
       "</table>\n",
       "</div>"
      ],
      "text/plain": [
       "            South Africa\n",
       "2008-12-31         0.633\n",
       "2009-12-31         0.642\n",
       "2010-12-31         0.649\n",
       "2011-12-31         0.657\n",
       "2012-12-31         0.664\n",
       "2013-12-31         0.675\n",
       "2014-12-31         0.685\n",
       "2015-12-31         0.692\n",
       "2016-12-31         0.696\n",
       "2017-12-31         0.699"
      ]
     },
     "execution_count": 22,
     "metadata": {},
     "output_type": "execute_result"
    }
   ],
   "source": [
    "df.tail(10)"
   ]
  },
  {
   "cell_type": "code",
   "execution_count": 23,
   "metadata": {},
   "outputs": [
    {
     "data": {
      "image/png": "[encoded data removed]",
      "text/plain": [
       "<Figure size 432x288 with 1 Axes>"
      ]
     },
     "metadata": {
      "needs_background": "light"
     },
     "output_type": "display_data"
    }
   ],
   "source": [
    "#Creating train and test set \n",
    "train=df[0:int(len(df)*0.7)] \n",
    "test=df[int(len(df)*0.7):]\n",
    "\n",
    "type(train)\n",
    "train.head()\n",
    "\n",
    "# SImple Plot of Test and train data\n",
    "sns.lineplot(train.index,train['South Africa'],ci=None)\n",
    "sns.lineplot(test.index,test['South Africa'],ci=None)\n",
    "plt.show()"
   ]
  },
  {
   "cell_type": "code",
   "execution_count": 24,
   "metadata": {},
   "outputs": [
    {
     "data": {
      "text/plain": [
       "1990-12-31    0.618\n",
       "1991-12-31    0.626\n",
       "1992-12-31    0.635\n",
       "1993-12-31    0.641\n",
       "1994-12-31    0.645\n",
       "1995-12-31    0.649\n",
       "1996-12-31    0.647\n",
       "1997-12-31    0.644\n",
       "1998-12-31    0.639\n",
       "1999-12-31    0.634\n",
       "2000-12-31    0.630\n",
       "2001-12-31    0.610\n",
       "2002-12-31    0.617\n",
       "2003-12-31    0.615\n",
       "2004-12-31    0.613\n",
       "2005-12-31    0.614\n",
       "2006-12-31    0.616\n",
       "2007-12-31    0.621\n",
       "2008-12-31    0.633\n",
       "Freq: A-DEC, Name: South Africa, dtype: float64"
      ]
     },
     "execution_count": 24,
     "metadata": {},
     "output_type": "execute_result"
    }
   ],
   "source": [
    "train['South Africa']"
   ]
  },
  {
   "cell_type": "code",
   "execution_count": 25,
   "metadata": {},
   "outputs": [
    {
     "data": {
      "text/plain": [
       "Text(0.5,1,'RSS: 10.8286')"
      ]
     },
     "execution_count": 25,
     "metadata": {},
     "output_type": "execute_result"
    },
    {
     "data": {
      "image/png": "[encoded data removed]",
      "text/plain": [
       "<Figure size 432x288 with 1 Axes>"
      ]
     },
     "metadata": {
      "needs_background": "light"
     },
     "output_type": "display_data"
    }
   ],
   "source": [
    "# ARIMA model\n",
    "ts=data['South Africa']\n",
    "from statsmodels.tsa.arima_model import ARIMA\n",
    "model = ARIMA(ts, order=(0, 2, 1)) \n",
    "results_ARIMA = model.fit()  \n",
    "plt.plot(ts)\n",
    "plt.plot(results_ARIMA.fittedvalues, color='red')\n",
    "plt.title('RSS: %.4f'% sum((results_ARIMA.fittedvalues-ts[2:])**2))"
   ]
  },
  {
   "cell_type": "code",
   "execution_count": 26,
   "metadata": {},
   "outputs": [
    {
     "data": {
      "text/plain": [
       "2    -0.000114\n",
       "3    -0.000558\n",
       "4     0.001045\n",
       "5     0.001385\n",
       "6     0.000574\n",
       "7     0.003157\n",
       "8     0.001956\n",
       "9     0.001856\n",
       "10    0.000810\n",
       "11   -0.000208\n",
       "12    0.007749\n",
       "13   -0.009698\n",
       "14   -0.000461\n",
       "15   -0.000343\n",
       "16   -0.001778\n",
       "17   -0.001497\n",
       "18   -0.002353\n",
       "19   -0.004770\n",
       "20   -0.000995\n",
       "21    0.000387\n",
       "22   -0.000419\n",
       "23    0.000176\n",
       "24   -0.002018\n",
       "25   -0.000620\n",
       "26    0.001071\n",
       "27    0.001913\n",
       "dtype: float64"
      ]
     },
     "execution_count": 26,
     "metadata": {},
     "output_type": "execute_result"
    }
   ],
   "source": [
    "results_ARIMA.fittedvalues"
   ]
  },
  {
   "cell_type": "code",
   "execution_count": 27,
   "metadata": {
    "scrolled": true
   },
   "outputs": [
    {
     "data": {
      "text/html": [
       "<table class=\"simpletable\">\n",
       "<caption>ARIMA Model Results</caption>\n",
       "<tr>\n",
       "  <th>Dep. Variable:</th>  <td>D2.South Africa</td> <th>  No. Observations:  </th>    <td>26</td>   \n",
       "</tr>\n",
       "<tr>\n",
       "  <th>Model:</th>          <td>ARIMA(0, 2, 1)</td>  <th>  Log Likelihood     </th>  <td>96.551</td> \n",
       "</tr>\n",
       "<tr>\n",
       "  <th>Method:</th>             <td>css-mle</td>     <th>  S.D. of innovations</th>   <td>0.006</td> \n",
       "</tr>\n",
       "<tr>\n",
       "  <th>Date:</th>          <td>Mon, 01 Apr 2019</td> <th>  AIC                </th> <td>-187.101</td>\n",
       "</tr>\n",
       "<tr>\n",
       "  <th>Time:</th>              <td>22:37:07</td>     <th>  BIC                </th> <td>-183.327</td>\n",
       "</tr>\n",
       "<tr>\n",
       "  <th>Sample:</th>                <td>2</td>        <th>  HQIC               </th> <td>-186.015</td>\n",
       "</tr>\n",
       "<tr>\n",
       "  <th></th>                       <td> </td>        <th>                     </th>     <td> </td>   \n",
       "</tr>\n",
       "</table>\n",
       "<table class=\"simpletable\">\n",
       "<tr>\n",
       "            <td></td>               <th>coef</th>     <th>std err</th>      <th>z</th>      <th>P>|z|</th>  <th>[0.025</th>    <th>0.975]</th>  \n",
       "</tr>\n",
       "<tr>\n",
       "  <th>const</th>                 <td>   -0.0001</td> <td>    0.001</td> <td>   -0.188</td> <td> 0.853</td> <td>   -0.001</td> <td>    0.001</td>\n",
       "</tr>\n",
       "<tr>\n",
       "  <th>ma.L1.D2.South Africa</th> <td>   -0.4979</td> <td>    0.143</td> <td>   -3.494</td> <td> 0.002</td> <td>   -0.777</td> <td>   -0.219</td>\n",
       "</tr>\n",
       "</table>\n",
       "<table class=\"simpletable\">\n",
       "<caption>Roots</caption>\n",
       "<tr>\n",
       "    <td></td>   <th>            Real</th>  <th>         Imaginary</th> <th>         Modulus</th>  <th>        Frequency</th>\n",
       "</tr>\n",
       "<tr>\n",
       "  <th>MA.1</th> <td>           2.0085</td> <td>          +0.0000j</td> <td>           2.0085</td> <td>           0.0000</td>\n",
       "</tr>\n",
       "</table>"
      ],
      "text/plain": [
       "<class 'statsmodels.iolib.summary.Summary'>\n",
       "\"\"\"\n",
       "                             ARIMA Model Results                              \n",
       "==============================================================================\n",
       "Dep. Variable:        D2.South Africa   No. Observations:                   26\n",
       "Model:                 ARIMA(0, 2, 1)   Log Likelihood                  96.551\n",
       "Method:                       css-mle   S.D. of innovations              0.006\n",
       "Date:                Mon, 01 Apr 2019   AIC                           -187.101\n",
       "Time:                        22:37:07   BIC                           -183.327\n",
       "Sample:                             2   HQIC                          -186.015\n",
       "                                                                              \n",
       "=========================================================================================\n",
       "                            coef    std err          z      P>|z|      [0.025      0.975]\n",
       "-----------------------------------------------------------------------------------------\n",
       "const                    -0.0001      0.001     -0.188      0.853      -0.001       0.001\n",
       "ma.L1.D2.South Africa    -0.4979      0.143     -3.494      0.002      -0.777      -0.219\n",
       "                                    Roots                                    \n",
       "=============================================================================\n",
       "                  Real          Imaginary           Modulus         Frequency\n",
       "-----------------------------------------------------------------------------\n",
       "MA.1            2.0085           +0.0000j            2.0085            0.0000\n",
       "-----------------------------------------------------------------------------\n",
       "\"\"\""
      ]
     },
     "execution_count": 27,
     "metadata": {},
     "output_type": "execute_result"
    }
   ],
   "source": [
    "# ARIMA model summary\n",
    "results_ARIMA.summary()"
   ]
  },
  {
   "cell_type": "code",
   "execution_count": 28,
   "metadata": {},
   "outputs": [
    {
     "name": "stdout",
     "output_type": "stream",
     "text": [
      "24\n"
     ]
    },
    {
     "data": {
      "text/plain": [
       "0          NaN\n",
       "1          NaN\n",
       "2          NaN\n",
       "3          NaN\n",
       "4     0.001045\n",
       "5     0.001385\n",
       "6     0.000574\n",
       "7     0.003157\n",
       "8     0.001956\n",
       "9     0.001856\n",
       "10    0.000810\n",
       "11   -0.000208\n",
       "12    0.007749\n",
       "13   -0.009698\n",
       "14   -0.000461\n",
       "15   -0.000343\n",
       "16   -0.001778\n",
       "17   -0.001497\n",
       "18   -0.002353\n",
       "19   -0.004770\n",
       "20   -0.000995\n",
       "21    0.000387\n",
       "22   -0.000419\n",
       "23    0.000176\n",
       "24   -0.002018\n",
       "25   -0.000620\n",
       "26    0.001071\n",
       "27    0.001913\n",
       "Name: Forecasted_SouthAfrica, dtype: float64"
      ]
     },
     "execution_count": 28,
     "metadata": {},
     "output_type": "execute_result"
    }
   ],
   "source": [
    "# Predicting the values for Training part\n",
    "\n",
    "pred=results_ARIMA.predict()\n",
    "print(len(pred))\n",
    "data['Forecasted_SouthAfrica']=pred\n",
    "data['Forecasted_SouthAfrica']"
   ]
  },
  {
   "cell_type": "code",
   "execution_count": 29,
   "metadata": {},
   "outputs": [
    {
     "data": {
      "image/png": "[encoded data removed]",
      "text/plain": [
       "<Figure size 720x432 with 1 Axes>"
      ]
     },
     "metadata": {
      "needs_background": "light"
     },
     "output_type": "display_data"
    }
   ],
   "source": [
    "axis = data['South Africa'].plot(label='Original', figsize=(10, 6))\n",
    "#df['Positive Indicators'].plot(ax=axis, label='Test', alpha=0.7)\n",
    "data['Forecasted_SouthAfrica'].plot(ax=axis, label='Forecasted', alpha=0.7)\n",
    "axis.set_xlabel('Years')\n",
    "axis.set_ylabel('South Africa')\n",
    "plt.legend(loc='best')\n",
    "plt.show()\n",
    "plt.close()"
   ]
  },
  {
   "cell_type": "code",
   "execution_count": 30,
   "metadata": {},
   "outputs": [
    {
     "name": "stderr",
     "output_type": "stream",
     "text": [
      "C:\\Users\\HII\\Anaconda3\\lib\\site-packages\\scipy\\signal\\signaltools.py:1344: FutureWarning:\n",
      "\n",
      "Using a non-tuple sequence for multidimensional indexing is deprecated; use `arr[tuple(seq)]` instead of `arr[seq]`. In the future this will be interpreted as an array index, `arr[np.array(seq)]`, which will result either in an error or a different result.\n",
      "\n"
     ]
    }
   ],
   "source": [
    "forecast=results_ARIMA.forecast(steps=5,alpha=0.95)\n",
    "LI=[]\n",
    "UI=[]\n",
    "for i in forecast[2]:\n",
    "    LI.append(i[0])\n",
    "    UI.append(i[1])"
   ]
  },
  {
   "cell_type": "code",
   "execution_count": 31,
   "metadata": {
    "scrolled": true
   },
   "outputs": [
    {
     "data": {
      "text/html": [
       "<div>\n",
       "<style scoped>\n",
       "    .dataframe tbody tr th:only-of-type {\n",
       "        vertical-align: middle;\n",
       "    }\n",
       "\n",
       "    .dataframe tbody tr th {\n",
       "        vertical-align: top;\n",
       "    }\n",
       "\n",
       "    .dataframe thead th {\n",
       "        text-align: right;\n",
       "    }\n",
       "</style>\n",
       "<table border=\"1\" class=\"dataframe\">\n",
       "  <thead>\n",
       "    <tr style=\"text-align: right;\">\n",
       "      <th></th>\n",
       "      <th>Forecast</th>\n",
       "      <th>Standard Error</th>\n",
       "      <th>CI lower</th>\n",
       "      <th>CI Upper</th>\n",
       "    </tr>\n",
       "  </thead>\n",
       "  <tbody>\n",
       "    <tr>\n",
       "      <th>2018-12-31</th>\n",
       "      <td>0.703337</td>\n",
       "      <td>0.005870</td>\n",
       "      <td>0.702969</td>\n",
       "      <td>0.703705</td>\n",
       "    </tr>\n",
       "    <tr>\n",
       "      <th>2019-12-31</th>\n",
       "      <td>0.707560</td>\n",
       "      <td>0.010593</td>\n",
       "      <td>0.706896</td>\n",
       "      <td>0.708225</td>\n",
       "    </tr>\n",
       "    <tr>\n",
       "      <th>2020-12-31</th>\n",
       "      <td>0.711670</td>\n",
       "      <td>0.015831</td>\n",
       "      <td>0.710678</td>\n",
       "      <td>0.712663</td>\n",
       "    </tr>\n",
       "    <tr>\n",
       "      <th>2021-12-31</th>\n",
       "      <td>0.715667</td>\n",
       "      <td>0.021611</td>\n",
       "      <td>0.714311</td>\n",
       "      <td>0.717022</td>\n",
       "    </tr>\n",
       "    <tr>\n",
       "      <th>2022-12-31</th>\n",
       "      <td>0.719549</td>\n",
       "      <td>0.027909</td>\n",
       "      <td>0.717799</td>\n",
       "      <td>0.721299</td>\n",
       "    </tr>\n",
       "  </tbody>\n",
       "</table>\n",
       "</div>"
      ],
      "text/plain": [
       "            Forecast  Standard Error  CI lower  CI Upper\n",
       "2018-12-31  0.703337        0.005870  0.702969  0.703705\n",
       "2019-12-31  0.707560        0.010593  0.706896  0.708225\n",
       "2020-12-31  0.711670        0.015831  0.710678  0.712663\n",
       "2021-12-31  0.715667        0.021611  0.714311  0.717022\n",
       "2022-12-31  0.719549        0.027909  0.717799  0.721299"
      ]
     },
     "execution_count": 31,
     "metadata": {},
     "output_type": "execute_result"
    }
   ],
   "source": [
    "df_new=pd.DataFrame({'Forecast':forecast[0],'Standard Error':forecast[1],'CI lower':LI,'CI Upper':UI})\n",
    "\n",
    "time=pd.date_range(start='1/1/2018',end='31/12/2022',freq='y')\n",
    "df_new.index=time\n",
    "df_new"
   ]
  },
  {
   "cell_type": "code",
   "execution_count": 32,
   "metadata": {},
   "outputs": [
    {
     "data": {
      "image/png": "[encoded data removed]",
      "text/plain": [
       "<Figure size 432x288 with 1 Axes>"
      ]
     },
     "metadata": {
      "needs_background": "light"
     },
     "output_type": "display_data"
    }
   ],
   "source": [
    "sns.lineplot(df.index,df['South Africa'],ci=None,label='Original')\n",
    "sns.lineplot(df_new.index,df_new['Forecast'],ci=None,label='Forecasted')\n",
    "plt.title('HDI South Africa')\n",
    "plt.xlabel('Years')\n",
    "plt.legend()\n",
    "plt.savefig('HDI SA.jpg')\n",
    "plt.show()\n"
   ]
  },
  {
   "cell_type": "code",
   "execution_count": 33,
   "metadata": {},
   "outputs": [
    {
     "name": "stdout",
     "output_type": "stream",
     "text": [
      "The MAPE value for ARIMA model is : 100.02236060786763\n",
      "The RMSE value for ARIMA model is : 0.6459380328271843\n"
     ]
    }
   ],
   "source": [
    "from sklearn.metrics import  accuracy_score\n",
    "\n",
    "# MAPE calculation function\n",
    "def mean_absolute_percentage_error(y_true, y_pred): \n",
    "    y_true, y_pred = np.array(y_true), np.array(y_pred)\n",
    "    return np.mean(np.abs((y_true - y_pred) / y_true)) * 100\n",
    "\n",
    "\n",
    "mape=mean_absolute_percentage_error(data['South Africa'][4:],data['Forecasted_SouthAfrica'][4:])\n",
    "#MAPE.append(mape)\n",
    "print('The MAPE value for ARIMA model is :',mape)\n",
    "mse = ((data['South Africa'][4:] - data['Forecasted_SouthAfrica'][4:]) ** 2).mean()\n",
    "rmse = np.sqrt(mse)\n",
    "print('The RMSE value for ARIMA model is :',rmse)\n",
    "#RMSE.append(rmse)"
   ]
  },
  {
   "cell_type": "markdown",
   "metadata": {},
   "source": [
    "# United States\n",
    "### Train test split"
   ]
  },
  {
   "cell_type": "code",
   "execution_count": 34,
   "metadata": {},
   "outputs": [
    {
     "data": {
      "text/html": [
       "<div>\n",
       "<style scoped>\n",
       "    .dataframe tbody tr th:only-of-type {\n",
       "        vertical-align: middle;\n",
       "    }\n",
       "\n",
       "    .dataframe tbody tr th {\n",
       "        vertical-align: top;\n",
       "    }\n",
       "\n",
       "    .dataframe thead th {\n",
       "        text-align: right;\n",
       "    }\n",
       "</style>\n",
       "<table border=\"1\" class=\"dataframe\">\n",
       "  <thead>\n",
       "    <tr style=\"text-align: right;\">\n",
       "      <th></th>\n",
       "      <th>United States</th>\n",
       "    </tr>\n",
       "  </thead>\n",
       "  <tbody>\n",
       "    <tr>\n",
       "      <th>1990-12-31</th>\n",
       "      <td>0.860</td>\n",
       "    </tr>\n",
       "    <tr>\n",
       "      <th>1991-12-31</th>\n",
       "      <td>0.861</td>\n",
       "    </tr>\n",
       "    <tr>\n",
       "      <th>1992-12-31</th>\n",
       "      <td>0.867</td>\n",
       "    </tr>\n",
       "    <tr>\n",
       "      <th>1993-12-31</th>\n",
       "      <td>0.871</td>\n",
       "    </tr>\n",
       "    <tr>\n",
       "      <th>1994-12-31</th>\n",
       "      <td>0.875</td>\n",
       "    </tr>\n",
       "  </tbody>\n",
       "</table>\n",
       "</div>"
      ],
      "text/plain": [
       "            United States\n",
       "1990-12-31          0.860\n",
       "1991-12-31          0.861\n",
       "1992-12-31          0.867\n",
       "1993-12-31          0.871\n",
       "1994-12-31          0.875"
      ]
     },
     "execution_count": 34,
     "metadata": {},
     "output_type": "execute_result"
    }
   ],
   "source": [
    "df=data.loc[:,['United States']]\n",
    "date_range=pd.date_range(start='1/1/1990',end='31/12/2017',freq='y')\n",
    "date_range\n",
    "df.index=date_range\n",
    "df.head()"
   ]
  },
  {
   "cell_type": "code",
   "execution_count": 35,
   "metadata": {},
   "outputs": [
    {
     "data": {
      "text/html": [
       "<div>\n",
       "<style scoped>\n",
       "    .dataframe tbody tr th:only-of-type {\n",
       "        vertical-align: middle;\n",
       "    }\n",
       "\n",
       "    .dataframe tbody tr th {\n",
       "        vertical-align: top;\n",
       "    }\n",
       "\n",
       "    .dataframe thead th {\n",
       "        text-align: right;\n",
       "    }\n",
       "</style>\n",
       "<table border=\"1\" class=\"dataframe\">\n",
       "  <thead>\n",
       "    <tr style=\"text-align: right;\">\n",
       "      <th></th>\n",
       "      <th>United States</th>\n",
       "    </tr>\n",
       "  </thead>\n",
       "  <tbody>\n",
       "    <tr>\n",
       "      <th>2013-12-31</th>\n",
       "      <td>0.916</td>\n",
       "    </tr>\n",
       "    <tr>\n",
       "      <th>2014-12-31</th>\n",
       "      <td>0.918</td>\n",
       "    </tr>\n",
       "    <tr>\n",
       "      <th>2015-12-31</th>\n",
       "      <td>0.920</td>\n",
       "    </tr>\n",
       "    <tr>\n",
       "      <th>2016-12-31</th>\n",
       "      <td>0.922</td>\n",
       "    </tr>\n",
       "    <tr>\n",
       "      <th>2017-12-31</th>\n",
       "      <td>0.924</td>\n",
       "    </tr>\n",
       "  </tbody>\n",
       "</table>\n",
       "</div>"
      ],
      "text/plain": [
       "            United States\n",
       "2013-12-31          0.916\n",
       "2014-12-31          0.918\n",
       "2015-12-31          0.920\n",
       "2016-12-31          0.922\n",
       "2017-12-31          0.924"
      ]
     },
     "execution_count": 35,
     "metadata": {},
     "output_type": "execute_result"
    }
   ],
   "source": [
    "df.tail()"
   ]
  },
  {
   "cell_type": "code",
   "execution_count": 36,
   "metadata": {},
   "outputs": [
    {
     "data": {
      "image/png": "[encoded data removed]",
      "text/plain": [
       "<Figure size 432x288 with 1 Axes>"
      ]
     },
     "metadata": {
      "needs_background": "light"
     },
     "output_type": "display_data"
    }
   ],
   "source": [
    "#Creating train and test set \n",
    "train=df[0:int(len(df)*0.7)] \n",
    "test=df[int(len(df)*0.7):]\n",
    "\n",
    "type(train)\n",
    "train.head()\n",
    "\n",
    "# SImple Plot of Test and train data\n",
    "sns.lineplot(train.index,train['United States'],ci=None)\n",
    "sns.lineplot(test.index,test['United States'],ci=None)\n",
    "plt.show()"
   ]
  },
  {
   "cell_type": "code",
   "execution_count": 37,
   "metadata": {},
   "outputs": [
    {
     "data": {
      "text/plain": [
       "1990-12-31    0.860\n",
       "1991-12-31    0.861\n",
       "1992-12-31    0.867\n",
       "1993-12-31    0.871\n",
       "1994-12-31    0.875\n",
       "1995-12-31    0.877\n",
       "1996-12-31    0.879\n",
       "1997-12-31    0.881\n",
       "1998-12-31    0.884\n",
       "1999-12-31    0.885\n",
       "2000-12-31    0.885\n",
       "2001-12-31    0.887\n",
       "2002-12-31    0.889\n",
       "2003-12-31    0.893\n",
       "2004-12-31    0.895\n",
       "2005-12-31    0.898\n",
       "2006-12-31    0.901\n",
       "2007-12-31    0.905\n",
       "2008-12-31    0.910\n",
       "Freq: A-DEC, Name: United States, dtype: float64"
      ]
     },
     "execution_count": 37,
     "metadata": {},
     "output_type": "execute_result"
    }
   ],
   "source": [
    "train['United States']"
   ]
  },
  {
   "cell_type": "code",
   "execution_count": 38,
   "metadata": {},
   "outputs": [
    {
     "data": {
      "text/plain": [
       "Text(0.5,1,'RSS: 20.9644')"
      ]
     },
     "execution_count": 38,
     "metadata": {},
     "output_type": "execute_result"
    },
    {
     "data": {
      "image/png": "[encoded data removed]",
      "text/plain": [
       "<Figure size 432x288 with 1 Axes>"
      ]
     },
     "metadata": {
      "needs_background": "light"
     },
     "output_type": "display_data"
    }
   ],
   "source": [
    "# ARIMA model\n",
    "ts=data['United States']\n",
    "from statsmodels.tsa.arima_model import ARIMA\n",
    "model = ARIMA(ts, order=(0, 2, 1)) \n",
    "results_ARIMA = model.fit()  \n",
    "plt.plot(ts)\n",
    "plt.plot(results_ARIMA.fittedvalues, color='red')\n",
    "plt.title('RSS: %.4f'% sum((results_ARIMA.fittedvalues-ts[2:])**2))"
   ]
  },
  {
   "cell_type": "code",
   "execution_count": 39,
   "metadata": {},
   "outputs": [
    {
     "data": {
      "text/plain": [
       "2    -0.000053\n",
       "3    -0.002579\n",
       "4    -0.000438\n",
       "5    -0.000381\n",
       "6     0.001242\n",
       "7     0.000983\n",
       "8     0.000790\n",
       "9    -0.000236\n",
       "10    0.001515\n",
       "11    0.002211\n",
       "12    0.000140\n",
       "13    0.000075\n",
       "14   -0.001829\n",
       "15    0.000106\n",
       "16   -0.000887\n",
       "17   -0.000884\n",
       "18   -0.001825\n",
       "19   -0.002721\n",
       "20    0.002107\n",
       "21   -0.001851\n",
       "22   -0.000863\n",
       "23    0.001033\n",
       "24    0.003805\n",
       "25   -0.000240\n",
       "26   -0.000283\n",
       "27   -0.000324\n",
       "dtype: float64"
      ]
     },
     "execution_count": 39,
     "metadata": {},
     "output_type": "execute_result"
    }
   ],
   "source": [
    "results_ARIMA.fittedvalues"
   ]
  },
  {
   "cell_type": "code",
   "execution_count": 40,
   "metadata": {
    "scrolled": true
   },
   "outputs": [
    {
     "data": {
      "text/html": [
       "<table class=\"simpletable\">\n",
       "<caption>ARIMA Model Results</caption>\n",
       "<tr>\n",
       "  <th>Dep. Variable:</th> <td>D2.United States</td> <th>  No. Observations:  </th>    <td>26</td>   \n",
       "</tr>\n",
       "<tr>\n",
       "  <th>Model:</th>          <td>ARIMA(0, 2, 1)</td>  <th>  Log Likelihood     </th>  <td>128.605</td>\n",
       "</tr>\n",
       "<tr>\n",
       "  <th>Method:</th>             <td>css-mle</td>     <th>  S.D. of innovations</th>   <td>0.002</td> \n",
       "</tr>\n",
       "<tr>\n",
       "  <th>Date:</th>          <td>Mon, 01 Apr 2019</td> <th>  AIC                </th> <td>-251.210</td>\n",
       "</tr>\n",
       "<tr>\n",
       "  <th>Time:</th>              <td>22:37:09</td>     <th>  BIC                </th> <td>-247.436</td>\n",
       "</tr>\n",
       "<tr>\n",
       "  <th>Sample:</th>                <td>2</td>        <th>  HQIC               </th> <td>-250.123</td>\n",
       "</tr>\n",
       "<tr>\n",
       "  <th></th>                       <td> </td>        <th>                     </th>     <td> </td>   \n",
       "</tr>\n",
       "</table>\n",
       "<table class=\"simpletable\">\n",
       "<tr>\n",
       "             <td></td>               <th>coef</th>     <th>std err</th>      <th>z</th>      <th>P>|z|</th>  <th>[0.025</th>    <th>0.975]</th>  \n",
       "</tr>\n",
       "<tr>\n",
       "  <th>const</th>                  <td>-5.251e-05</td> <td> 3.99e-05</td> <td>   -1.316</td> <td> 0.201</td> <td>   -0.000</td> <td> 2.57e-05</td>\n",
       "</tr>\n",
       "<tr>\n",
       "  <th>ma.L1.D2.United States</th> <td>   -0.9999</td> <td>    0.121</td> <td>   -8.290</td> <td> 0.000</td> <td>   -1.236</td> <td>   -0.763</td>\n",
       "</tr>\n",
       "</table>\n",
       "<table class=\"simpletable\">\n",
       "<caption>Roots</caption>\n",
       "<tr>\n",
       "    <td></td>   <th>            Real</th>  <th>         Imaginary</th> <th>         Modulus</th>  <th>        Frequency</th>\n",
       "</tr>\n",
       "<tr>\n",
       "  <th>MA.1</th> <td>           1.0001</td> <td>          +0.0000j</td> <td>           1.0001</td> <td>           0.0000</td>\n",
       "</tr>\n",
       "</table>"
      ],
      "text/plain": [
       "<class 'statsmodels.iolib.summary.Summary'>\n",
       "\"\"\"\n",
       "                             ARIMA Model Results                              \n",
       "==============================================================================\n",
       "Dep. Variable:       D2.United States   No. Observations:                   26\n",
       "Model:                 ARIMA(0, 2, 1)   Log Likelihood                 128.605\n",
       "Method:                       css-mle   S.D. of innovations              0.002\n",
       "Date:                Mon, 01 Apr 2019   AIC                           -251.210\n",
       "Time:                        22:37:09   BIC                           -247.436\n",
       "Sample:                             2   HQIC                          -250.123\n",
       "                                                                              \n",
       "==========================================================================================\n",
       "                             coef    std err          z      P>|z|      [0.025      0.975]\n",
       "------------------------------------------------------------------------------------------\n",
       "const                  -5.251e-05   3.99e-05     -1.316      0.201      -0.000    2.57e-05\n",
       "ma.L1.D2.United States    -0.9999      0.121     -8.290      0.000      -1.236      -0.763\n",
       "                                    Roots                                    \n",
       "=============================================================================\n",
       "                  Real          Imaginary           Modulus         Frequency\n",
       "-----------------------------------------------------------------------------\n",
       "MA.1            1.0001           +0.0000j            1.0001            0.0000\n",
       "-----------------------------------------------------------------------------\n",
       "\"\"\""
      ]
     },
     "execution_count": 40,
     "metadata": {},
     "output_type": "execute_result"
    }
   ],
   "source": [
    "# ARIMA model summary\n",
    "results_ARIMA.summary()"
   ]
  },
  {
   "cell_type": "code",
   "execution_count": 41,
   "metadata": {},
   "outputs": [
    {
     "name": "stdout",
     "output_type": "stream",
     "text": [
      "24\n"
     ]
    },
    {
     "data": {
      "text/plain": [
       "0          NaN\n",
       "1          NaN\n",
       "2          NaN\n",
       "3          NaN\n",
       "4    -0.000438\n",
       "5    -0.000381\n",
       "6     0.001242\n",
       "7     0.000983\n",
       "8     0.000790\n",
       "9    -0.000236\n",
       "10    0.001515\n",
       "11    0.002211\n",
       "12    0.000140\n",
       "13    0.000075\n",
       "14   -0.001829\n",
       "15    0.000106\n",
       "16   -0.000887\n",
       "17   -0.000884\n",
       "18   -0.001825\n",
       "19   -0.002721\n",
       "20    0.002107\n",
       "21   -0.001851\n",
       "22   -0.000863\n",
       "23    0.001033\n",
       "24    0.003805\n",
       "25   -0.000240\n",
       "26   -0.000283\n",
       "27   -0.000324\n",
       "Name: Forecasted_US, dtype: float64"
      ]
     },
     "execution_count": 41,
     "metadata": {},
     "output_type": "execute_result"
    }
   ],
   "source": [
    "# Predicting the values for Training part\n",
    "\n",
    "pred=results_ARIMA.predict()\n",
    "print(len(pred))\n",
    "data['Forecasted_US']=pred\n",
    "data['Forecasted_US']"
   ]
  },
  {
   "cell_type": "code",
   "execution_count": 42,
   "metadata": {},
   "outputs": [
    {
     "data": {
      "image/png": "[encoded data removed]",
      "text/plain": [
       "<Figure size 720x432 with 1 Axes>"
      ]
     },
     "metadata": {
      "needs_background": "light"
     },
     "output_type": "display_data"
    }
   ],
   "source": [
    "axis = data['United States'].plot(label='Original', figsize=(10, 6))\n",
    "#df['Positive Indicators'].plot(ax=axis, label='Test', alpha=0.7)\n",
    "data['Forecasted_US'].plot(ax=axis, label='Forecasted', alpha=0.7)\n",
    "axis.set_xlabel('Years')\n",
    "axis.set_ylabel('US')\n",
    "plt.legend(loc='best')\n",
    "plt.show()\n",
    "plt.close()"
   ]
  },
  {
   "cell_type": "code",
   "execution_count": 43,
   "metadata": {},
   "outputs": [
    {
     "name": "stderr",
     "output_type": "stream",
     "text": [
      "C:\\Users\\HII\\Anaconda3\\lib\\site-packages\\scipy\\signal\\signaltools.py:1344: FutureWarning:\n",
      "\n",
      "Using a non-tuple sequence for multidimensional indexing is deprecated; use `arr[tuple(seq)]` instead of `arr[seq]`. In the future this will be interpreted as an array index, `arr[np.array(seq)]`, which will result either in an error or a different result.\n",
      "\n"
     ]
    }
   ],
   "source": [
    "forecast=results_ARIMA.forecast(steps=5,alpha=0.95)\n",
    "LI=[]\n",
    "UI=[]\n",
    "for i in forecast[2]:\n",
    "    LI.append(i[0])\n",
    "    UI.append(i[1])"
   ]
  },
  {
   "cell_type": "code",
   "execution_count": 44,
   "metadata": {
    "scrolled": true
   },
   "outputs": [
    {
     "data": {
      "text/html": [
       "<div>\n",
       "<style scoped>\n",
       "    .dataframe tbody tr th:only-of-type {\n",
       "        vertical-align: middle;\n",
       "    }\n",
       "\n",
       "    .dataframe tbody tr th {\n",
       "        vertical-align: top;\n",
       "    }\n",
       "\n",
       "    .dataframe thead th {\n",
       "        text-align: right;\n",
       "    }\n",
       "</style>\n",
       "<table border=\"1\" class=\"dataframe\">\n",
       "  <thead>\n",
       "    <tr style=\"text-align: right;\">\n",
       "      <th></th>\n",
       "      <th>Forecast</th>\n",
       "      <th>Standard Error</th>\n",
       "      <th>CI lower</th>\n",
       "      <th>CI Upper</th>\n",
       "    </tr>\n",
       "  </thead>\n",
       "  <tbody>\n",
       "    <tr>\n",
       "      <th>2018-12-31</th>\n",
       "      <td>0.925623</td>\n",
       "      <td>0.001615</td>\n",
       "      <td>0.925522</td>\n",
       "      <td>0.925725</td>\n",
       "    </tr>\n",
       "    <tr>\n",
       "      <th>2019-12-31</th>\n",
       "      <td>0.927194</td>\n",
       "      <td>0.002284</td>\n",
       "      <td>0.927051</td>\n",
       "      <td>0.927337</td>\n",
       "    </tr>\n",
       "    <tr>\n",
       "      <th>2020-12-31</th>\n",
       "      <td>0.928712</td>\n",
       "      <td>0.002797</td>\n",
       "      <td>0.928537</td>\n",
       "      <td>0.928888</td>\n",
       "    </tr>\n",
       "    <tr>\n",
       "      <th>2021-12-31</th>\n",
       "      <td>0.930178</td>\n",
       "      <td>0.003230</td>\n",
       "      <td>0.929976</td>\n",
       "      <td>0.930381</td>\n",
       "    </tr>\n",
       "    <tr>\n",
       "      <th>2022-12-31</th>\n",
       "      <td>0.931592</td>\n",
       "      <td>0.003612</td>\n",
       "      <td>0.931365</td>\n",
       "      <td>0.931818</td>\n",
       "    </tr>\n",
       "  </tbody>\n",
       "</table>\n",
       "</div>"
      ],
      "text/plain": [
       "            Forecast  Standard Error  CI lower  CI Upper\n",
       "2018-12-31  0.925623        0.001615  0.925522  0.925725\n",
       "2019-12-31  0.927194        0.002284  0.927051  0.927337\n",
       "2020-12-31  0.928712        0.002797  0.928537  0.928888\n",
       "2021-12-31  0.930178        0.003230  0.929976  0.930381\n",
       "2022-12-31  0.931592        0.003612  0.931365  0.931818"
      ]
     },
     "execution_count": 44,
     "metadata": {},
     "output_type": "execute_result"
    }
   ],
   "source": [
    "df_new=pd.DataFrame({'Forecast':forecast[0],'Standard Error':forecast[1],'CI lower':LI,'CI Upper':UI})\n",
    "\n",
    "time=pd.date_range(start='1/1/2018',end='31/12/2022',freq='y')\n",
    "df_new.index=time\n",
    "df_new"
   ]
  },
  {
   "cell_type": "code",
   "execution_count": 45,
   "metadata": {},
   "outputs": [
    {
     "data": {
      "image/png": "[encoded data removed]",
      "text/plain": [
       "<Figure size 432x288 with 1 Axes>"
      ]
     },
     "metadata": {
      "needs_background": "light"
     },
     "output_type": "display_data"
    }
   ],
   "source": [
    "sns.lineplot(df.index,df['United States'],ci=None,label='Original')\n",
    "sns.lineplot(df_new.index,df_new['Forecast'],ci=None,label='Forecasted')\n",
    "plt.title('HDI US')\n",
    "plt.xlabel('Years')\n",
    "plt.legend()\n",
    "plt.savefig('HDI US.jpg')\n",
    "plt.show()\n"
   ]
  },
  {
   "cell_type": "code",
   "execution_count": 46,
   "metadata": {},
   "outputs": [
    {
     "name": "stdout",
     "output_type": "stream",
     "text": [
      "The MAPE value for ARIMA model is : 99.9938179109519\n",
      "The RMSE value for ARIMA model is : 0.9002193887168334\n"
     ]
    }
   ],
   "source": [
    "from sklearn.metrics import  accuracy_score\n",
    "\n",
    "# MAPE calculation function\n",
    "def mean_absolute_percentage_error(y_true, y_pred): \n",
    "    y_true, y_pred = np.array(y_true), np.array(y_pred)\n",
    "    return np.mean(np.abs((y_true - y_pred) / y_true)) * 100\n",
    "\n",
    "\n",
    "mape=mean_absolute_percentage_error(data['United States'][4:],data['Forecasted_US'][4:])\n",
    "#MAPE.append(mape)\n",
    "print('The MAPE value for ARIMA model is :',mape)\n",
    "mse = ((data['United States'][4:] - data['Forecasted_US'][4:]) ** 2).mean()\n",
    "rmse = np.sqrt(mse)\n",
    "print('The RMSE value for ARIMA model is :',rmse)\n",
    "#RMSE.append(rmse)"
   ]
  },
  {
   "cell_type": "code",
   "execution_count": null,
   "metadata": {},
   "outputs": [],
   "source": []
  }
 ],
 "metadata": {
  "kernelspec": {
   "display_name": "Python 3",
   "language": "python",
   "name": "python3"
  },
  "language_info": {
   "codemirror_mode": {
    "name": "ipython",
    "version": 3
   },
   "file_extension": ".py",
   "mimetype": "text/x-python",
   "name": "python",
   "nbconvert_exporter": "python",
   "pygments_lexer": "ipython3",
   "version": "3.7.0"
  }
 },
 "nbformat": 4,
 "nbformat_minor": 2
}
