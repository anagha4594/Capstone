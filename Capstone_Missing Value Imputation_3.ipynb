{
 "cells": [
  {
   "cell_type": "code",
   "execution_count": 1,
   "metadata": {
    "scrolled": true
   },
   "outputs": [
    {
     "data": {
      "text/plain": [
       "'3.7.0'"
      ]
     },
     "execution_count": 1,
     "metadata": {},
     "output_type": "execute_result"
    }
   ],
   "source": [
    "import numpy as np\n",
    "import pandas as pd\n",
    "import seaborn as sns\n",
    "import matplotlib.pyplot as plt\n",
    "%matplotlib inline\n",
    "import plotly\n",
    "plotly.__version__"
   ]
  },
  {
   "cell_type": "code",
   "execution_count": 2,
   "metadata": {},
   "outputs": [
    {
     "data": {
      "text/html": [
       "<div>\n",
       "<style scoped>\n",
       "    .dataframe tbody tr th:only-of-type {\n",
       "        vertical-align: middle;\n",
       "    }\n",
       "\n",
       "    .dataframe tbody tr th {\n",
       "        vertical-align: top;\n",
       "    }\n",
       "\n",
       "    .dataframe thead th {\n",
       "        text-align: right;\n",
       "    }\n",
       "</style>\n",
       "<table border=\"1\" class=\"dataframe\">\n",
       "  <thead>\n",
       "    <tr style=\"text-align: right;\">\n",
       "      <th></th>\n",
       "      <th>Year</th>\n",
       "      <th>Country Name</th>\n",
       "      <th>Health Workforce</th>\n",
       "      <th>Healthcare Activities</th>\n",
       "      <th>Adolescent Fertitlity rate(births per 1000 women ages 15-19)</th>\n",
       "      <th>Fertility rate, total (births per woman)</th>\n",
       "      <th>Survival to age 65 Female</th>\n",
       "      <th>Survival to age 65 Male</th>\n",
       "      <th>Survival to age 65 (% of cohort)</th>\n",
       "      <th>Infant Mortality</th>\n",
       "      <th>Avg Mortality Rate</th>\n",
       "      <th>Mortality rate, adult, female</th>\n",
       "      <th>Mortality rate, adult, male</th>\n",
       "      <th>Overall Population</th>\n",
       "      <th>Female Population</th>\n",
       "      <th>Male Population</th>\n",
       "      <th>Population Growth Rate</th>\n",
       "      <th>Age dependency Ratio</th>\n",
       "      <th>Sex Ratio(Male to Female)</th>\n",
       "    </tr>\n",
       "  </thead>\n",
       "  <tbody>\n",
       "    <tr>\n",
       "      <th>0</th>\n",
       "      <td>1960</td>\n",
       "      <td>European Union</td>\n",
       "      <td>NaN</td>\n",
       "      <td>NaN</td>\n",
       "      <td>-0.240377</td>\n",
       "      <td>-0.175933</td>\n",
       "      <td>0.118371</td>\n",
       "      <td>0.040324</td>\n",
       "      <td>0.079347</td>\n",
       "      <td>NaN</td>\n",
       "      <td>-0.275233</td>\n",
       "      <td>-0.285502</td>\n",
       "      <td>-0.264963</td>\n",
       "      <td>0.040191</td>\n",
       "      <td>0.839253</td>\n",
       "      <td>0.622655</td>\n",
       "      <td>-0.542898</td>\n",
       "      <td>-0.162078</td>\n",
       "      <td>0.821584</td>\n",
       "    </tr>\n",
       "    <tr>\n",
       "      <th>1</th>\n",
       "      <td>1961</td>\n",
       "      <td>European Union</td>\n",
       "      <td>NaN</td>\n",
       "      <td>NaN</td>\n",
       "      <td>-0.213048</td>\n",
       "      <td>-0.168673</td>\n",
       "      <td>0.156453</td>\n",
       "      <td>0.065586</td>\n",
       "      <td>0.111020</td>\n",
       "      <td>NaN</td>\n",
       "      <td>-0.303875</td>\n",
       "      <td>-0.321378</td>\n",
       "      <td>-0.286372</td>\n",
       "      <td>0.039921</td>\n",
       "      <td>0.854174</td>\n",
       "      <td>0.639082</td>\n",
       "      <td>-0.508897</td>\n",
       "      <td>-0.137044</td>\n",
       "      <td>0.824330</td>\n",
       "    </tr>\n",
       "    <tr>\n",
       "      <th>2</th>\n",
       "      <td>1962</td>\n",
       "      <td>European Union</td>\n",
       "      <td>NaN</td>\n",
       "      <td>NaN</td>\n",
       "      <td>-0.187328</td>\n",
       "      <td>-0.171574</td>\n",
       "      <td>0.194690</td>\n",
       "      <td>0.090843</td>\n",
       "      <td>0.142766</td>\n",
       "      <td>NaN</td>\n",
       "      <td>-0.286403</td>\n",
       "      <td>-0.314099</td>\n",
       "      <td>-0.258707</td>\n",
       "      <td>0.041219</td>\n",
       "      <td>0.869780</td>\n",
       "      <td>0.655826</td>\n",
       "      <td>-0.634063</td>\n",
       "      <td>-0.121763</td>\n",
       "      <td>0.826359</td>\n",
       "    </tr>\n",
       "    <tr>\n",
       "      <th>3</th>\n",
       "      <td>1963</td>\n",
       "      <td>European Union</td>\n",
       "      <td>NaN</td>\n",
       "      <td>NaN</td>\n",
       "      <td>-0.188559</td>\n",
       "      <td>-0.150098</td>\n",
       "      <td>0.214221</td>\n",
       "      <td>0.102519</td>\n",
       "      <td>0.158370</td>\n",
       "      <td>NaN</td>\n",
       "      <td>-0.290609</td>\n",
       "      <td>-0.324141</td>\n",
       "      <td>-0.257077</td>\n",
       "      <td>0.043544</td>\n",
       "      <td>0.885752</td>\n",
       "      <td>0.672347</td>\n",
       "      <td>-0.607015</td>\n",
       "      <td>-0.112616</td>\n",
       "      <td>0.827480</td>\n",
       "    </tr>\n",
       "    <tr>\n",
       "      <th>4</th>\n",
       "      <td>1964</td>\n",
       "      <td>European Union</td>\n",
       "      <td>NaN</td>\n",
       "      <td>NaN</td>\n",
       "      <td>-0.191342</td>\n",
       "      <td>-0.130377</td>\n",
       "      <td>0.233770</td>\n",
       "      <td>0.114194</td>\n",
       "      <td>0.173982</td>\n",
       "      <td>NaN</td>\n",
       "      <td>-0.338486</td>\n",
       "      <td>-0.366055</td>\n",
       "      <td>-0.310918</td>\n",
       "      <td>0.045938</td>\n",
       "      <td>0.901654</td>\n",
       "      <td>0.687978</td>\n",
       "      <td>-0.490586</td>\n",
       "      <td>-0.103209</td>\n",
       "      <td>0.827501</td>\n",
       "    </tr>\n",
       "  </tbody>\n",
       "</table>\n",
       "</div>"
      ],
      "text/plain": [
       "   Year    Country Name  Health Workforce  Healthcare Activities  \\\n",
       "0  1960  European Union               NaN                    NaN   \n",
       "1  1961  European Union               NaN                    NaN   \n",
       "2  1962  European Union               NaN                    NaN   \n",
       "3  1963  European Union               NaN                    NaN   \n",
       "4  1964  European Union               NaN                    NaN   \n",
       "\n",
       "   Adolescent Fertitlity rate(births per 1000 women ages 15-19)  \\\n",
       "0                                          -0.240377              \n",
       "1                                          -0.213048              \n",
       "2                                          -0.187328              \n",
       "3                                          -0.188559              \n",
       "4                                          -0.191342              \n",
       "\n",
       "   Fertility rate, total (births per woman)  Survival to age 65 Female  \\\n",
       "0                                 -0.175933                   0.118371   \n",
       "1                                 -0.168673                   0.156453   \n",
       "2                                 -0.171574                   0.194690   \n",
       "3                                 -0.150098                   0.214221   \n",
       "4                                 -0.130377                   0.233770   \n",
       "\n",
       "   Survival to age 65 Male  Survival to age 65 (% of cohort)  \\\n",
       "0                 0.040324                          0.079347   \n",
       "1                 0.065586                          0.111020   \n",
       "2                 0.090843                          0.142766   \n",
       "3                 0.102519                          0.158370   \n",
       "4                 0.114194                          0.173982   \n",
       "\n",
       "   Infant Mortality  Avg Mortality Rate  Mortality rate, adult, female  \\\n",
       "0               NaN           -0.275233                      -0.285502   \n",
       "1               NaN           -0.303875                      -0.321378   \n",
       "2               NaN           -0.286403                      -0.314099   \n",
       "3               NaN           -0.290609                      -0.324141   \n",
       "4               NaN           -0.338486                      -0.366055   \n",
       "\n",
       "   Mortality rate, adult, male  Overall Population  Female Population  \\\n",
       "0                    -0.264963            0.040191           0.839253   \n",
       "1                    -0.286372            0.039921           0.854174   \n",
       "2                    -0.258707            0.041219           0.869780   \n",
       "3                    -0.257077            0.043544           0.885752   \n",
       "4                    -0.310918            0.045938           0.901654   \n",
       "\n",
       "   Male Population  Population Growth Rate  Age dependency Ratio  \\\n",
       "0         0.622655               -0.542898             -0.162078   \n",
       "1         0.639082               -0.508897             -0.137044   \n",
       "2         0.655826               -0.634063             -0.121763   \n",
       "3         0.672347               -0.607015             -0.112616   \n",
       "4         0.687978               -0.490586             -0.103209   \n",
       "\n",
       "   Sex Ratio(Male to Female)  \n",
       "0                   0.821584  \n",
       "1                   0.824330  \n",
       "2                   0.826359  \n",
       "3                   0.827480  \n",
       "4                   0.827501  "
      ]
     },
     "execution_count": 2,
     "metadata": {},
     "output_type": "execute_result"
    }
   ],
   "source": [
    "#Importing the aggregated data\n",
    "data=pd.read_csv('Indicator_Aggregated_21-03-2018.csv')\n",
    "data.head()"
   ]
  },
  {
   "cell_type": "code",
   "execution_count": 3,
   "metadata": {},
   "outputs": [
    {
     "data": {
      "text/plain": [
       "Index(['Year', 'Country Name', 'Health Workforce', 'Healthcare Activities',\n",
       "       'Adolescent Fertitlity rate(births per 1000 women ages 15-19)',\n",
       "       'Fertility rate, total (births per woman)', 'Survival to age 65 Female',\n",
       "       'Survival to age 65 Male', 'Survival to age 65 (% of cohort)',\n",
       "       'Infant Mortality', 'Avg Mortality Rate',\n",
       "       'Mortality rate, adult, female', 'Mortality rate, adult, male',\n",
       "       'Overall Population', 'Female Population', 'Male Population',\n",
       "       'Population Growth Rate', 'Age dependency Ratio',\n",
       "       'Sex Ratio(Male to Female)'],\n",
       "      dtype='object')"
      ]
     },
     "execution_count": 3,
     "metadata": {},
     "output_type": "execute_result"
    }
   ],
   "source": [
    "# Column names\n",
    "data.columns"
   ]
  },
  {
   "cell_type": "code",
   "execution_count": 4,
   "metadata": {},
   "outputs": [
    {
     "data": {
      "text/plain": [
       "Healthcare Activities                                           91.517857\n",
       "Health Workforce                                                87.678571\n",
       "Infant Mortality                                                40.000000\n",
       "Mortality rate, adult, male                                      8.750000\n",
       "Mortality rate, adult, female                                    8.750000\n",
       "Avg Mortality Rate                                               8.750000\n",
       "Fertility rate, total (births per woman)                         1.785714\n",
       "Population Growth Rate                                           1.785714\n",
       "Adolescent Fertitlity rate(births per 1000 women ages 15-19)     1.785714\n",
       "Survival to age 65 (% of cohort)                                 1.785714\n",
       "Survival to age 65 Male                                          1.785714\n",
       "Survival to age 65 Female                                        1.785714\n",
       "Country Name                                                     0.000000\n",
       "Sex Ratio(Male to Female)                                        0.000000\n",
       "Age dependency Ratio                                             0.000000\n",
       "Overall Population                                               0.000000\n",
       "Female Population                                                0.000000\n",
       "Male Population                                                  0.000000\n",
       "Year                                                             0.000000\n",
       "dtype: float64"
      ]
     },
     "execution_count": 4,
     "metadata": {},
     "output_type": "execute_result"
    }
   ],
   "source": [
    "#% of null value \n",
    "data.isnull().sum().sort_values(ascending=False)*100/len(data)"
   ]
  },
  {
   "cell_type": "code",
   "execution_count": 5,
   "metadata": {},
   "outputs": [
    {
     "data": {
      "image/png": "[encoded data removed]",
      "text/plain": [
       "<Figure size 864x576 with 1 Axes>"
      ]
     },
     "metadata": {
      "needs_background": "light"
     },
     "output_type": "display_data"
    }
   ],
   "source": [
    "# Null value representation plot\n",
    "plt.figure(figsize=[12,8])\n",
    "a=data.isnull().sum()*100/len(data)\n",
    "sns.barplot(data.columns,a.values)\n",
    "plt.xlabel('Aggregated Indicators')\n",
    "plt.ylabel('% of Null values')\n",
    "plt.title('G20 Countries')\n",
    "plt.xticks(rotation=90)\n",
    "plt.show()"
   ]
  },
  {
   "cell_type": "markdown",
   "metadata": {},
   "source": [
    "# Missing Value Imputation "
   ]
  },
  {
   "cell_type": "markdown",
   "metadata": {},
   "source": [
    "# Japan"
   ]
  },
  {
   "cell_type": "code",
   "execution_count": 6,
   "metadata": {},
   "outputs": [
    {
     "data": {
      "text/plain": [
       "Year                                                             0\n",
       "Country Name                                                     0\n",
       "Health Workforce                                                18\n",
       "Healthcare Activities                                           56\n",
       "Adolescent Fertitlity rate(births per 1000 women ages 15-19)     1\n",
       "Fertility rate, total (births per woman)                         1\n",
       "Survival to age 65 Female                                        1\n",
       "Survival to age 65 Male                                          1\n",
       "Survival to age 65 (% of cohort)                                 1\n",
       "Infant Mortality                                                 0\n",
       "Avg Mortality Rate                                               3\n",
       "Mortality rate, adult, female                                    3\n",
       "Mortality rate, adult, male                                      3\n",
       "Overall Population                                               0\n",
       "Female Population                                                0\n",
       "Male Population                                                  0\n",
       "Population Growth Rate                                           1\n",
       "Age dependency Ratio                                             0\n",
       "Sex Ratio(Male to Female)                                        0\n",
       "dtype: int64"
      ]
     },
     "execution_count": 6,
     "metadata": {},
     "output_type": "execute_result"
    }
   ],
   "source": [
    "# Null value imputation for Health Workforce in Japan\n",
    "data[data['Country Name']=='Japan'].isnull().sum()\n"
   ]
  },
  {
   "cell_type": "markdown",
   "metadata": {},
   "source": [
    "### Health Workforce null value treatment"
   ]
  },
  {
   "cell_type": "code",
   "execution_count": 7,
   "metadata": {},
   "outputs": [
    {
     "data": {
      "text/plain": [
       "<matplotlib.axes._subplots.AxesSubplot at 0x1d06a0e74e0>"
      ]
     },
     "execution_count": 7,
     "metadata": {},
     "output_type": "execute_result"
    },
    {
     "data": {
      "image/png": "[encoded data removed]",
      "text/plain": [
       "<Figure size 1440x720 with 1 Axes>"
      ]
     },
     "metadata": {
      "needs_background": "light"
     },
     "output_type": "display_data"
    }
   ],
   "source": [
    "# Graph\n",
    "data[data['Country Name']=='Japan']['Health Workforce'].plot(style=['k--', 'bo-', 'r*'], figsize=(20, 10))"
   ]
  },
  {
   "cell_type": "code",
   "execution_count": 8,
   "metadata": {},
   "outputs": [
    {
     "data": {
      "text/plain": [
       "Year                                                             0\n",
       "Country Name                                                     0\n",
       "Health Workforce                                                18\n",
       "Healthcare Activities                                           56\n",
       "Adolescent Fertitlity rate(births per 1000 women ages 15-19)     1\n",
       "Fertility rate, total (births per woman)                         1\n",
       "Survival to age 65 Female                                        1\n",
       "Survival to age 65 Male                                          1\n",
       "Survival to age 65 (% of cohort)                                 1\n",
       "Infant Mortality                                                 0\n",
       "Avg Mortality Rate                                               3\n",
       "Mortality rate, adult, female                                    3\n",
       "Mortality rate, adult, male                                      3\n",
       "Overall Population                                               0\n",
       "Female Population                                                0\n",
       "Male Population                                                  0\n",
       "Population Growth Rate                                           1\n",
       "Age dependency Ratio                                             0\n",
       "Sex Ratio(Male to Female)                                        0\n",
       "dtype: int64"
      ]
     },
     "execution_count": 8,
     "metadata": {},
     "output_type": "execute_result"
    }
   ],
   "source": [
    "data[data['Country Name']=='Japan'].isnull().sum()"
   ]
  },
  {
   "cell_type": "code",
   "execution_count": 13,
   "metadata": {},
   "outputs": [
    {
     "name": "stderr",
     "output_type": "stream",
     "text": [
      "C:\\Users\\HII\\Anaconda3\\lib\\site-packages\\pandas\\core\\generic.py:5434: SettingWithCopyWarning:\n",
      "\n",
      "\n",
      "A value is trying to be set on a copy of a slice from a DataFrame\n",
      "\n",
      "See the caveats in the documentation: http://pandas.pydata.org/pandas-docs/stable/indexing.html#indexing-view-versus-copy\n",
      "\n"
     ]
    },
    {
     "data": {
      "text/plain": [
       "Year                                                             0\n",
       "Country Name                                                     0\n",
       "Health Workforce                                                 0\n",
       "Healthcare Activities                                           56\n",
       "Adolescent Fertitlity rate(births per 1000 women ages 15-19)     0\n",
       "Fertility rate, total (births per woman)                         0\n",
       "Survival to age 65 Female                                        0\n",
       "Survival to age 65 Male                                          0\n",
       "Survival to age 65 (% of cohort)                                 0\n",
       "Infant Mortality                                                 0\n",
       "Avg Mortality Rate                                               0\n",
       "Mortality rate, adult, female                                    0\n",
       "Mortality rate, adult, male                                      0\n",
       "Overall Population                                               0\n",
       "Female Population                                                0\n",
       "Male Population                                                  0\n",
       "Population Growth Rate                                           0\n",
       "Age dependency Ratio                                             0\n",
       "Sex Ratio(Male to Female)                                        0\n",
       "dtype: int64"
      ]
     },
     "execution_count": 13,
     "metadata": {},
     "output_type": "execute_result"
    }
   ],
   "source": [
    "#Iterate this loop n times till the values get filled\n",
    "col=['Adolescent Fertitlity rate(births per 1000 women ages 15-19)','Fertility rate, total (births per woman)',\n",
    "     'Avg Mortality Rate','Mortality rate, adult, female',\n",
    "     'Mortality rate, adult, male',\n",
    "     'Health Workforce',\n",
    "     'Survival to age 65 (% of cohort)','Survival to age 65 Female','Survival to age 65 Male',\n",
    "     'Population Growth Rate']\n",
    "for i in col:\n",
    "    df=data[data['Country Name']=='Japan']\n",
    "    df_mean=df[i].rolling(2,min_periods=1,).mean()\n",
    "    df[i].fillna(df_mean,inplace=True)\n",
    "\n",
    "    data[data['Country Name']=='Japan']=df\n",
    "    \n",
    "data[data['Country Name']=='Japan'].isnull().sum()"
   ]
  },
  {
   "cell_type": "markdown",
   "metadata": {},
   "source": [
    "# Turkey"
   ]
  },
  {
   "cell_type": "code",
   "execution_count": 14,
   "metadata": {},
   "outputs": [
    {
     "data": {
      "text/plain": [
       "Year                                                             0\n",
       "Country Name                                                     0\n",
       "Health Workforce                                                 4\n",
       "Healthcare Activities                                           56\n",
       "Adolescent Fertitlity rate(births per 1000 women ages 15-19)     1\n",
       "Fertility rate, total (births per woman)                         1\n",
       "Survival to age 65 Female                                        1\n",
       "Survival to age 65 Male                                          1\n",
       "Survival to age 65 (% of cohort)                                 1\n",
       "Infant Mortality                                                 0\n",
       "Avg Mortality Rate                                               1\n",
       "Mortality rate, adult, female                                    1\n",
       "Mortality rate, adult, male                                      1\n",
       "Overall Population                                               0\n",
       "Female Population                                                0\n",
       "Male Population                                                  0\n",
       "Population Growth Rate                                           1\n",
       "Age dependency Ratio                                             0\n",
       "Sex Ratio(Male to Female)                                        0\n",
       "dtype: int64"
      ]
     },
     "execution_count": 14,
     "metadata": {},
     "output_type": "execute_result"
    }
   ],
   "source": [
    "# Null value imputation for Health Workforce in Japan\n",
    "data[data['Country Name']=='Turkey'].isnull().sum()"
   ]
  },
  {
   "cell_type": "code",
   "execution_count": 15,
   "metadata": {},
   "outputs": [
    {
     "data": {
      "text/plain": [
       "<matplotlib.axes._subplots.AxesSubplot at 0x1d06a0e7438>"
      ]
     },
     "execution_count": 15,
     "metadata": {},
     "output_type": "execute_result"
    },
    {
     "data": {
      "image/png": "[encoded data removed]",
      "text/plain": [
       "<Figure size 1440x720 with 1 Axes>"
      ]
     },
     "metadata": {
      "needs_background": "light"
     },
     "output_type": "display_data"
    }
   ],
   "source": [
    "### Health Workforce null value treatment\n",
    "\n",
    "# Graph\n",
    "data[data['Country Name']=='Turkey']['Health Workforce'].plot(style=['k--', 'bo-', 'r*'], figsize=(20, 10))\n",
    "\n"
   ]
  },
  {
   "cell_type": "code",
   "execution_count": 19,
   "metadata": {},
   "outputs": [
    {
     "name": "stderr",
     "output_type": "stream",
     "text": [
      "C:\\Users\\HII\\Anaconda3\\lib\\site-packages\\pandas\\core\\generic.py:5434: SettingWithCopyWarning:\n",
      "\n",
      "\n",
      "A value is trying to be set on a copy of a slice from a DataFrame\n",
      "\n",
      "See the caveats in the documentation: http://pandas.pydata.org/pandas-docs/stable/indexing.html#indexing-view-versus-copy\n",
      "\n"
     ]
    },
    {
     "data": {
      "text/plain": [
       "Year                                                             0\n",
       "Country Name                                                     0\n",
       "Health Workforce                                                 0\n",
       "Healthcare Activities                                           56\n",
       "Adolescent Fertitlity rate(births per 1000 women ages 15-19)     0\n",
       "Fertility rate, total (births per woman)                         0\n",
       "Survival to age 65 Female                                        0\n",
       "Survival to age 65 Male                                          0\n",
       "Survival to age 65 (% of cohort)                                 0\n",
       "Infant Mortality                                                 0\n",
       "Avg Mortality Rate                                               0\n",
       "Mortality rate, adult, female                                    0\n",
       "Mortality rate, adult, male                                      0\n",
       "Overall Population                                               0\n",
       "Female Population                                                0\n",
       "Male Population                                                  0\n",
       "Population Growth Rate                                           0\n",
       "Age dependency Ratio                                             0\n",
       "Sex Ratio(Male to Female)                                        0\n",
       "dtype: int64"
      ]
     },
     "execution_count": 19,
     "metadata": {},
     "output_type": "execute_result"
    }
   ],
   "source": [
    "col=['Adolescent Fertitlity rate(births per 1000 women ages 15-19)','Fertility rate, total (births per woman)',\n",
    "     'Avg Mortality Rate','Mortality rate, adult, female',\n",
    "     'Mortality rate, adult, male',\n",
    "     'Health Workforce',\n",
    "     'Survival to age 65 (% of cohort)','Survival to age 65 Female','Survival to age 65 Male',\n",
    "     'Population Growth Rate']\n",
    "for i in col:\n",
    "    df=data[data['Country Name']=='Turkey']\n",
    "    df_mean=df[i].rolling(2,min_periods=1,).mean()\n",
    "    df[i].fillna(df_mean,inplace=True)\n",
    "\n",
    "    data[data['Country Name']=='Turkey']=df\n",
    "    \n",
    "data[data['Country Name']=='Turkey'].isnull().sum()"
   ]
  },
  {
   "cell_type": "markdown",
   "metadata": {},
   "source": [
    "# United Kingdom"
   ]
  },
  {
   "cell_type": "code",
   "execution_count": 20,
   "metadata": {},
   "outputs": [
    {
     "data": {
      "text/plain": [
       "Year                                                             0\n",
       "Country Name                                                     0\n",
       "Health Workforce                                                 8\n",
       "Healthcare Activities                                           56\n",
       "Adolescent Fertitlity rate(births per 1000 women ages 15-19)     1\n",
       "Fertility rate, total (births per woman)                         1\n",
       "Survival to age 65 Female                                        1\n",
       "Survival to age 65 Male                                          1\n",
       "Survival to age 65 (% of cohort)                                 1\n",
       "Infant Mortality                                                 0\n",
       "Avg Mortality Rate                                               2\n",
       "Mortality rate, adult, female                                    2\n",
       "Mortality rate, adult, male                                      2\n",
       "Overall Population                                               0\n",
       "Female Population                                                0\n",
       "Male Population                                                  0\n",
       "Population Growth Rate                                           1\n",
       "Age dependency Ratio                                             0\n",
       "Sex Ratio(Male to Female)                                        0\n",
       "dtype: int64"
      ]
     },
     "execution_count": 20,
     "metadata": {},
     "output_type": "execute_result"
    }
   ],
   "source": [
    "data[data['Country Name']=='United Kingdom'].isnull().sum()"
   ]
  },
  {
   "cell_type": "code",
   "execution_count": 21,
   "metadata": {},
   "outputs": [
    {
     "data": {
      "text/plain": [
       "<matplotlib.axes._subplots.AxesSubplot at 0x1d067945ba8>"
      ]
     },
     "execution_count": 21,
     "metadata": {},
     "output_type": "execute_result"
    },
    {
     "data": {
      "image/png": "[encoded data removed]",
      "text/plain": [
       "<Figure size 1440x720 with 1 Axes>"
      ]
     },
     "metadata": {
      "needs_background": "light"
     },
     "output_type": "display_data"
    }
   ],
   "source": [
    "### Health Workforce null value treatment\n",
    "\n",
    "# Graph\n",
    "data[data['Country Name']=='United Kingdom']['Health Workforce'].plot(style=['k--', 'bo-', 'r*'], figsize=(20, 10))\n",
    "\n"
   ]
  },
  {
   "cell_type": "code",
   "execution_count": 28,
   "metadata": {
    "scrolled": false
   },
   "outputs": [
    {
     "name": "stderr",
     "output_type": "stream",
     "text": [
      "C:\\Users\\HII\\Anaconda3\\lib\\site-packages\\pandas\\core\\generic.py:5434: SettingWithCopyWarning:\n",
      "\n",
      "\n",
      "A value is trying to be set on a copy of a slice from a DataFrame\n",
      "\n",
      "See the caveats in the documentation: http://pandas.pydata.org/pandas-docs/stable/indexing.html#indexing-view-versus-copy\n",
      "\n"
     ]
    },
    {
     "data": {
      "text/plain": [
       "Year                                                             0\n",
       "Country Name                                                     0\n",
       "Health Workforce                                                 0\n",
       "Healthcare Activities                                           56\n",
       "Adolescent Fertitlity rate(births per 1000 women ages 15-19)     0\n",
       "Fertility rate, total (births per woman)                         0\n",
       "Survival to age 65 Female                                        0\n",
       "Survival to age 65 Male                                          0\n",
       "Survival to age 65 (% of cohort)                                 0\n",
       "Infant Mortality                                                 0\n",
       "Avg Mortality Rate                                               0\n",
       "Mortality rate, adult, female                                    0\n",
       "Mortality rate, adult, male                                      0\n",
       "Overall Population                                               0\n",
       "Female Population                                                0\n",
       "Male Population                                                  0\n",
       "Population Growth Rate                                           0\n",
       "Age dependency Ratio                                             0\n",
       "Sex Ratio(Male to Female)                                        0\n",
       "dtype: int64"
      ]
     },
     "execution_count": 28,
     "metadata": {},
     "output_type": "execute_result"
    }
   ],
   "source": [
    "col=['Adolescent Fertitlity rate(births per 1000 women ages 15-19)','Fertility rate, total (births per woman)',\n",
    "     'Avg Mortality Rate','Mortality rate, adult, female',\n",
    "     'Mortality rate, adult, male',\n",
    "     'Health Workforce',\n",
    "     'Survival to age 65 (% of cohort)','Survival to age 65 Female','Survival to age 65 Male',\n",
    "     'Population Growth Rate']\n",
    "for i in col:\n",
    "    df=data[data['Country Name']=='United Kingdom']\n",
    "    df_mean=df[i].rolling(2,min_periods=1,).mean()\n",
    "    df[i].fillna(df_mean,inplace=True)\n",
    "\n",
    "    data[data['Country Name']=='United Kingdom']=df\n",
    "    \n",
    "data[data['Country Name']=='United Kingdom'].isnull().sum()\n"
   ]
  },
  {
   "cell_type": "code",
   "execution_count": 29,
   "metadata": {},
   "outputs": [
    {
     "data": {
      "text/plain": [
       "<matplotlib.axes._subplots.AxesSubplot at 0x1d06a1e7940>"
      ]
     },
     "execution_count": 29,
     "metadata": {},
     "output_type": "execute_result"
    },
    {
     "data": {
      "image/png": "[encoded data removed]",
      "text/plain": [
       "<Figure size 1440x720 with 1 Axes>"
      ]
     },
     "metadata": {
      "needs_background": "light"
     },
     "output_type": "display_data"
    }
   ],
   "source": [
    "\n",
    "# Graph\n",
    "data[data['Country Name']=='United Kingdom']['Health Workforce'].plot(style=['k--', 'bo-', 'r*'], figsize=(20, 10))\n"
   ]
  },
  {
   "cell_type": "markdown",
   "metadata": {},
   "source": [
    "# Australia\n"
   ]
  },
  {
   "cell_type": "code",
   "execution_count": 30,
   "metadata": {},
   "outputs": [
    {
     "data": {
      "text/plain": [
       "Year                                                             0\n",
       "Country Name                                                     0\n",
       "Health Workforce                                                56\n",
       "Healthcare Activities                                           11\n",
       "Adolescent Fertitlity rate(births per 1000 women ages 15-19)     1\n",
       "Fertility rate, total (births per woman)                         1\n",
       "Survival to age 65 Female                                        1\n",
       "Survival to age 65 Male                                          1\n",
       "Survival to age 65 (% of cohort)                                 1\n",
       "Infant Mortality                                                 0\n",
       "Avg Mortality Rate                                               4\n",
       "Mortality rate, adult, female                                    4\n",
       "Mortality rate, adult, male                                      4\n",
       "Overall Population                                               0\n",
       "Female Population                                                0\n",
       "Male Population                                                  0\n",
       "Population Growth Rate                                           1\n",
       "Age dependency Ratio                                             0\n",
       "Sex Ratio(Male to Female)                                        0\n",
       "dtype: int64"
      ]
     },
     "execution_count": 30,
     "metadata": {},
     "output_type": "execute_result"
    }
   ],
   "source": [
    "data[data['Country Name']=='Australia'].isnull().sum()"
   ]
  },
  {
   "cell_type": "code",
   "execution_count": 34,
   "metadata": {},
   "outputs": [
    {
     "data": {
      "text/plain": [
       "<matplotlib.axes._subplots.AxesSubplot at 0x1d06a7c7550>"
      ]
     },
     "execution_count": 34,
     "metadata": {},
     "output_type": "execute_result"
    },
    {
     "data": {
      "image/png": "[encoded data removed]",
      "text/plain": [
       "<Figure size 1440x720 with 1 Axes>"
      ]
     },
     "metadata": {
      "needs_background": "light"
     },
     "output_type": "display_data"
    }
   ],
   "source": [
    "### Health Workforce null value treatment\n",
    "\n",
    "# Graph\n",
    "data[data['Country Name']=='Australia']['Healthcare Activities'].plot(style=['k--', 'bo-', 'r*'], figsize=(20, 10))\n",
    "\n"
   ]
  },
  {
   "cell_type": "code",
   "execution_count": 38,
   "metadata": {},
   "outputs": [
    {
     "name": "stderr",
     "output_type": "stream",
     "text": [
      "C:\\Users\\HII\\Anaconda3\\lib\\site-packages\\pandas\\core\\generic.py:5434: SettingWithCopyWarning:\n",
      "\n",
      "\n",
      "A value is trying to be set on a copy of a slice from a DataFrame\n",
      "\n",
      "See the caveats in the documentation: http://pandas.pydata.org/pandas-docs/stable/indexing.html#indexing-view-versus-copy\n",
      "\n"
     ]
    },
    {
     "name": "stdout",
     "output_type": "stream",
     "text": [
      "Year                                                             0\n",
      "Country Name                                                     0\n",
      "Health Workforce                                                56\n",
      "Healthcare Activities                                            0\n",
      "Adolescent Fertitlity rate(births per 1000 women ages 15-19)     0\n",
      "Fertility rate, total (births per woman)                         0\n",
      "Survival to age 65 Female                                        0\n",
      "Survival to age 65 Male                                          0\n",
      "Survival to age 65 (% of cohort)                                 0\n",
      "Infant Mortality                                                 0\n",
      "Avg Mortality Rate                                               0\n",
      "Mortality rate, adult, female                                    0\n",
      "Mortality rate, adult, male                                      0\n",
      "Overall Population                                               0\n",
      "Female Population                                                0\n",
      "Male Population                                                  0\n",
      "Population Growth Rate                                           0\n",
      "Age dependency Ratio                                             0\n",
      "Sex Ratio(Male to Female)                                        0\n",
      "dtype: int64\n"
     ]
    },
    {
     "data": {
      "text/plain": [
       "<matplotlib.axes._subplots.AxesSubplot at 0x1d06a8044e0>"
      ]
     },
     "execution_count": 38,
     "metadata": {},
     "output_type": "execute_result"
    },
    {
     "data": {
      "image/png": "[encoded data removed]",
      "text/plain": [
       "<Figure size 1440x720 with 1 Axes>"
      ]
     },
     "metadata": {
      "needs_background": "light"
     },
     "output_type": "display_data"
    }
   ],
   "source": [
    "col=['Adolescent Fertitlity rate(births per 1000 women ages 15-19)','Fertility rate, total (births per woman)',\n",
    "     'Avg Mortality Rate','Mortality rate, adult, female',\n",
    "     'Mortality rate, adult, male',\n",
    "     'Healthcare Activities',\n",
    "     'Survival to age 65 (% of cohort)','Survival to age 65 Female','Survival to age 65 Male',\n",
    "     'Population Growth Rate']\n",
    "for i in col:\n",
    "    df=data[data['Country Name']=='Australia']\n",
    "    df_mean=df[i].rolling(2,min_periods=1,).mean()\n",
    "    df[i].fillna(df_mean,inplace=True)\n",
    "\n",
    "    data[data['Country Name']=='Australia']=df\n",
    "    \n",
    "print(data[data['Country Name']=='Australia'].isnull().sum())\n",
    "\n",
    "# Graph\n",
    "data[data['Country Name']=='Australia']['Healthcare Activities'].plot(style=['k--', 'bo-', 'r*'], figsize=(20, 10))\n"
   ]
  },
  {
   "cell_type": "markdown",
   "metadata": {},
   "source": [
    "# Italy"
   ]
  },
  {
   "cell_type": "code",
   "execution_count": 39,
   "metadata": {},
   "outputs": [
    {
     "data": {
      "text/plain": [
       "Year                                                             0\n",
       "Country Name                                                     0\n",
       "Health Workforce                                                56\n",
       "Healthcare Activities                                            6\n",
       "Adolescent Fertitlity rate(births per 1000 women ages 15-19)     1\n",
       "Fertility rate, total (births per woman)                         1\n",
       "Survival to age 65 Female                                        1\n",
       "Survival to age 65 Male                                          1\n",
       "Survival to age 65 (% of cohort)                                 1\n",
       "Infant Mortality                                                 0\n",
       "Avg Mortality Rate                                               6\n",
       "Mortality rate, adult, female                                    6\n",
       "Mortality rate, adult, male                                      6\n",
       "Overall Population                                               0\n",
       "Female Population                                                0\n",
       "Male Population                                                  0\n",
       "Population Growth Rate                                           1\n",
       "Age dependency Ratio                                             0\n",
       "Sex Ratio(Male to Female)                                        0\n",
       "dtype: int64"
      ]
     },
     "execution_count": 39,
     "metadata": {},
     "output_type": "execute_result"
    }
   ],
   "source": [
    "data[data['Country Name']=='Italy'].isnull().sum()"
   ]
  },
  {
   "cell_type": "code",
   "execution_count": 45,
   "metadata": {
    "scrolled": true
   },
   "outputs": [
    {
     "name": "stderr",
     "output_type": "stream",
     "text": [
      "C:\\Users\\HII\\Anaconda3\\lib\\site-packages\\pandas\\core\\generic.py:5434: SettingWithCopyWarning:\n",
      "\n",
      "\n",
      "A value is trying to be set on a copy of a slice from a DataFrame\n",
      "\n",
      "See the caveats in the documentation: http://pandas.pydata.org/pandas-docs/stable/indexing.html#indexing-view-versus-copy\n",
      "\n"
     ]
    },
    {
     "name": "stdout",
     "output_type": "stream",
     "text": [
      "Year                                                             0\n",
      "Country Name                                                     0\n",
      "Health Workforce                                                56\n",
      "Healthcare Activities                                            0\n",
      "Adolescent Fertitlity rate(births per 1000 women ages 15-19)     0\n",
      "Fertility rate, total (births per woman)                         0\n",
      "Survival to age 65 Female                                        0\n",
      "Survival to age 65 Male                                          0\n",
      "Survival to age 65 (% of cohort)                                 0\n",
      "Infant Mortality                                                 0\n",
      "Avg Mortality Rate                                               0\n",
      "Mortality rate, adult, female                                    0\n",
      "Mortality rate, adult, male                                      0\n",
      "Overall Population                                               0\n",
      "Female Population                                                0\n",
      "Male Population                                                  0\n",
      "Population Growth Rate                                           0\n",
      "Age dependency Ratio                                             0\n",
      "Sex Ratio(Male to Female)                                        0\n",
      "dtype: int64\n"
     ]
    },
    {
     "data": {
      "text/plain": [
       "<matplotlib.axes._subplots.AxesSubplot at 0x1d06c1d26d8>"
      ]
     },
     "execution_count": 45,
     "metadata": {},
     "output_type": "execute_result"
    },
    {
     "data": {
      "image/png": "[encoded data removed]",
      "text/plain": [
       "<Figure size 1440x720 with 1 Axes>"
      ]
     },
     "metadata": {
      "needs_background": "light"
     },
     "output_type": "display_data"
    }
   ],
   "source": [
    "col=['Adolescent Fertitlity rate(births per 1000 women ages 15-19)','Fertility rate, total (births per woman)',\n",
    "     'Avg Mortality Rate','Mortality rate, adult, female',\n",
    "     'Mortality rate, adult, male',\n",
    "     'Healthcare Activities',\n",
    "     'Survival to age 65 (% of cohort)','Survival to age 65 Female','Survival to age 65 Male',\n",
    "     'Population Growth Rate']\n",
    "for i in col:\n",
    "    df=data[data['Country Name']=='Italy']\n",
    "    df_mean=df[i].rolling(2,min_periods=1,).mean()\n",
    "    df[i].fillna(df_mean,inplace=True)\n",
    "\n",
    "    data[data['Country Name']=='Italy']=df\n",
    "    \n",
    "print(data[data['Country Name']=='Italy'].isnull().sum())\n",
    "\n",
    "# Graph\n",
    "data[data['Country Name']=='Italy']['Healthcare Activities'].plot(style=['k--', 'bo-', 'r*'], figsize=(20, 10))\n"
   ]
  },
  {
   "cell_type": "code",
   "execution_count": 46,
   "metadata": {},
   "outputs": [],
   "source": [
    "data.to_csv('24-03-2019.csv',index=False)"
   ]
  },
  {
   "cell_type": "markdown",
   "metadata": {},
   "source": [
    "## Time Series imputation for other countries"
   ]
  },
  {
   "cell_type": "code",
   "execution_count": 47,
   "metadata": {},
   "outputs": [
    {
     "data": {
      "text/html": [
       "<div>\n",
       "<style scoped>\n",
       "    .dataframe tbody tr th:only-of-type {\n",
       "        vertical-align: middle;\n",
       "    }\n",
       "\n",
       "    .dataframe tbody tr th {\n",
       "        vertical-align: top;\n",
       "    }\n",
       "\n",
       "    .dataframe thead th {\n",
       "        text-align: right;\n",
       "    }\n",
       "</style>\n",
       "<table border=\"1\" class=\"dataframe\">\n",
       "  <thead>\n",
       "    <tr style=\"text-align: right;\">\n",
       "      <th></th>\n",
       "      <th>Year</th>\n",
       "      <th>Country Name</th>\n",
       "      <th>Health Workforce</th>\n",
       "      <th>Healthcare Activities</th>\n",
       "      <th>Adolescent Fertitlity rate(births per 1000 women ages 15-19)</th>\n",
       "      <th>Fertility rate, total (births per woman)</th>\n",
       "      <th>Survival to age 65 Female</th>\n",
       "      <th>Survival to age 65 Male</th>\n",
       "      <th>Survival to age 65 (% of cohort)</th>\n",
       "      <th>Infant Mortality</th>\n",
       "      <th>Avg Mortality Rate</th>\n",
       "      <th>Mortality rate, adult, female</th>\n",
       "      <th>Mortality rate, adult, male</th>\n",
       "      <th>Overall Population</th>\n",
       "      <th>Female Population</th>\n",
       "      <th>Male Population</th>\n",
       "      <th>Population Growth Rate</th>\n",
       "      <th>Age dependency Ratio</th>\n",
       "      <th>Sex Ratio(Male to Female)</th>\n",
       "    </tr>\n",
       "  </thead>\n",
       "  <tbody>\n",
       "    <tr>\n",
       "      <th>0</th>\n",
       "      <td>1960</td>\n",
       "      <td>European Union</td>\n",
       "      <td>NaN</td>\n",
       "      <td>NaN</td>\n",
       "      <td>-0.240377</td>\n",
       "      <td>-0.175933</td>\n",
       "      <td>0.118371</td>\n",
       "      <td>0.040324</td>\n",
       "      <td>0.079347</td>\n",
       "      <td>NaN</td>\n",
       "      <td>-0.275233</td>\n",
       "      <td>-0.285502</td>\n",
       "      <td>-0.264963</td>\n",
       "      <td>0.040191</td>\n",
       "      <td>0.839253</td>\n",
       "      <td>0.622655</td>\n",
       "      <td>-0.542898</td>\n",
       "      <td>-0.162078</td>\n",
       "      <td>0.821584</td>\n",
       "    </tr>\n",
       "    <tr>\n",
       "      <th>1</th>\n",
       "      <td>1961</td>\n",
       "      <td>European Union</td>\n",
       "      <td>NaN</td>\n",
       "      <td>NaN</td>\n",
       "      <td>-0.213048</td>\n",
       "      <td>-0.168673</td>\n",
       "      <td>0.156453</td>\n",
       "      <td>0.065586</td>\n",
       "      <td>0.111020</td>\n",
       "      <td>NaN</td>\n",
       "      <td>-0.303875</td>\n",
       "      <td>-0.321378</td>\n",
       "      <td>-0.286372</td>\n",
       "      <td>0.039921</td>\n",
       "      <td>0.854174</td>\n",
       "      <td>0.639082</td>\n",
       "      <td>-0.508897</td>\n",
       "      <td>-0.137044</td>\n",
       "      <td>0.824330</td>\n",
       "    </tr>\n",
       "    <tr>\n",
       "      <th>2</th>\n",
       "      <td>1962</td>\n",
       "      <td>European Union</td>\n",
       "      <td>NaN</td>\n",
       "      <td>NaN</td>\n",
       "      <td>-0.187328</td>\n",
       "      <td>-0.171574</td>\n",
       "      <td>0.194690</td>\n",
       "      <td>0.090843</td>\n",
       "      <td>0.142766</td>\n",
       "      <td>NaN</td>\n",
       "      <td>-0.286403</td>\n",
       "      <td>-0.314099</td>\n",
       "      <td>-0.258707</td>\n",
       "      <td>0.041219</td>\n",
       "      <td>0.869780</td>\n",
       "      <td>0.655826</td>\n",
       "      <td>-0.634063</td>\n",
       "      <td>-0.121763</td>\n",
       "      <td>0.826359</td>\n",
       "    </tr>\n",
       "    <tr>\n",
       "      <th>3</th>\n",
       "      <td>1963</td>\n",
       "      <td>European Union</td>\n",
       "      <td>NaN</td>\n",
       "      <td>NaN</td>\n",
       "      <td>-0.188559</td>\n",
       "      <td>-0.150098</td>\n",
       "      <td>0.214221</td>\n",
       "      <td>0.102519</td>\n",
       "      <td>0.158370</td>\n",
       "      <td>NaN</td>\n",
       "      <td>-0.290609</td>\n",
       "      <td>-0.324141</td>\n",
       "      <td>-0.257077</td>\n",
       "      <td>0.043544</td>\n",
       "      <td>0.885752</td>\n",
       "      <td>0.672347</td>\n",
       "      <td>-0.607015</td>\n",
       "      <td>-0.112616</td>\n",
       "      <td>0.827480</td>\n",
       "    </tr>\n",
       "    <tr>\n",
       "      <th>4</th>\n",
       "      <td>1964</td>\n",
       "      <td>European Union</td>\n",
       "      <td>NaN</td>\n",
       "      <td>NaN</td>\n",
       "      <td>-0.191342</td>\n",
       "      <td>-0.130377</td>\n",
       "      <td>0.233770</td>\n",
       "      <td>0.114194</td>\n",
       "      <td>0.173982</td>\n",
       "      <td>NaN</td>\n",
       "      <td>-0.338486</td>\n",
       "      <td>-0.366055</td>\n",
       "      <td>-0.310918</td>\n",
       "      <td>0.045938</td>\n",
       "      <td>0.901654</td>\n",
       "      <td>0.687978</td>\n",
       "      <td>-0.490586</td>\n",
       "      <td>-0.103209</td>\n",
       "      <td>0.827501</td>\n",
       "    </tr>\n",
       "  </tbody>\n",
       "</table>\n",
       "</div>"
      ],
      "text/plain": [
       "   Year    Country Name  Health Workforce  Healthcare Activities  \\\n",
       "0  1960  European Union               NaN                    NaN   \n",
       "1  1961  European Union               NaN                    NaN   \n",
       "2  1962  European Union               NaN                    NaN   \n",
       "3  1963  European Union               NaN                    NaN   \n",
       "4  1964  European Union               NaN                    NaN   \n",
       "\n",
       "   Adolescent Fertitlity rate(births per 1000 women ages 15-19)  \\\n",
       "0                                          -0.240377              \n",
       "1                                          -0.213048              \n",
       "2                                          -0.187328              \n",
       "3                                          -0.188559              \n",
       "4                                          -0.191342              \n",
       "\n",
       "   Fertility rate, total (births per woman)  Survival to age 65 Female  \\\n",
       "0                                 -0.175933                   0.118371   \n",
       "1                                 -0.168673                   0.156453   \n",
       "2                                 -0.171574                   0.194690   \n",
       "3                                 -0.150098                   0.214221   \n",
       "4                                 -0.130377                   0.233770   \n",
       "\n",
       "   Survival to age 65 Male  Survival to age 65 (% of cohort)  \\\n",
       "0                 0.040324                          0.079347   \n",
       "1                 0.065586                          0.111020   \n",
       "2                 0.090843                          0.142766   \n",
       "3                 0.102519                          0.158370   \n",
       "4                 0.114194                          0.173982   \n",
       "\n",
       "   Infant Mortality  Avg Mortality Rate  Mortality rate, adult, female  \\\n",
       "0               NaN           -0.275233                      -0.285502   \n",
       "1               NaN           -0.303875                      -0.321378   \n",
       "2               NaN           -0.286403                      -0.314099   \n",
       "3               NaN           -0.290609                      -0.324141   \n",
       "4               NaN           -0.338486                      -0.366055   \n",
       "\n",
       "   Mortality rate, adult, male  Overall Population  Female Population  \\\n",
       "0                    -0.264963            0.040191           0.839253   \n",
       "1                    -0.286372            0.039921           0.854174   \n",
       "2                    -0.258707            0.041219           0.869780   \n",
       "3                    -0.257077            0.043544           0.885752   \n",
       "4                    -0.310918            0.045938           0.901654   \n",
       "\n",
       "   Male Population  Population Growth Rate  Age dependency Ratio  \\\n",
       "0         0.622655               -0.542898             -0.162078   \n",
       "1         0.639082               -0.508897             -0.137044   \n",
       "2         0.655826               -0.634063             -0.121763   \n",
       "3         0.672347               -0.607015             -0.112616   \n",
       "4         0.687978               -0.490586             -0.103209   \n",
       "\n",
       "   Sex Ratio(Male to Female)  \n",
       "0                   0.821584  \n",
       "1                   0.824330  \n",
       "2                   0.826359  \n",
       "3                   0.827480  \n",
       "4                   0.827501  "
      ]
     },
     "execution_count": 47,
     "metadata": {},
     "output_type": "execute_result"
    }
   ],
   "source": [
    "data_1=pd.read_csv('23-03-2019.csv')\n",
    "data_1.head()"
   ]
  },
  {
   "cell_type": "code",
   "execution_count": 48,
   "metadata": {},
   "outputs": [
    {
     "data": {
      "text/plain": [
       "Year                                                               0\n",
       "Country Name                                                       0\n",
       "Health Workforce                                                 952\n",
       "Healthcare Activities                                           1008\n",
       "Adolescent Fertitlity rate(births per 1000 women ages 15-19)       0\n",
       "Fertility rate, total (births per woman)                           0\n",
       "Survival to age 65 Female                                          0\n",
       "Survival to age 65 Male                                            0\n",
       "Survival to age 65 (% of cohort)                                   0\n",
       "Infant Mortality                                                 448\n",
       "Avg Mortality Rate                                                56\n",
       "Mortality rate, adult, female                                     56\n",
       "Mortality rate, adult, male                                       56\n",
       "Overall Population                                                 0\n",
       "Female Population                                                  0\n",
       "Male Population                                                    0\n",
       "Population Growth Rate                                             0\n",
       "Age dependency Ratio                                               0\n",
       "Sex Ratio(Male to Female)                                          0\n",
       "dtype: int64"
      ]
     },
     "execution_count": 48,
     "metadata": {},
     "output_type": "execute_result"
    }
   ],
   "source": [
    "data_1.isnull().sum()"
   ]
  },
  {
   "cell_type": "code",
   "execution_count": 51,
   "metadata": {},
   "outputs": [
    {
     "name": "stderr",
     "output_type": "stream",
     "text": [
      "C:\\Users\\HII\\Anaconda3\\lib\\site-packages\\pandas\\core\\generic.py:5434: SettingWithCopyWarning:\n",
      "\n",
      "\n",
      "A value is trying to be set on a copy of a slice from a DataFrame\n",
      "\n",
      "See the caveats in the documentation: http://pandas.pydata.org/pandas-docs/stable/indexing.html#indexing-view-versus-copy\n",
      "\n"
     ]
    },
    {
     "data": {
      "text/plain": [
       "Year                                                               0\n",
       "Country Name                                                       0\n",
       "Health Workforce                                                 952\n",
       "Healthcare Activities                                           1008\n",
       "Adolescent Fertitlity rate(births per 1000 women ages 15-19)       0\n",
       "Fertility rate, total (births per woman)                           0\n",
       "Survival to age 65 Female                                          0\n",
       "Survival to age 65 Male                                            0\n",
       "Survival to age 65 (% of cohort)                                   0\n",
       "Infant Mortality                                                 448\n",
       "Avg Mortality Rate                                                56\n",
       "Mortality rate, adult, female                                     56\n",
       "Mortality rate, adult, male                                       56\n",
       "Overall Population                                                 0\n",
       "Female Population                                                  0\n",
       "Male Population                                                    0\n",
       "Population Growth Rate                                             0\n",
       "Age dependency Ratio                                               0\n",
       "Sex Ratio(Male to Female)                                          0\n",
       "dtype: int64"
      ]
     },
     "execution_count": 51,
     "metadata": {},
     "output_type": "execute_result"
    }
   ],
   "source": [
    "# Null value imputation using rolling means of window size 2\n",
    "col=['Adolescent Fertitlity rate(births per 1000 women ages 15-19)','Fertility rate, total (births per woman)',\n",
    "     'Avg Mortality Rate','Mortality rate, adult, female','Infant Mortality',\n",
    "     'Mortality rate, adult, male',\n",
    "     'Survival to age 65 (% of cohort)','Survival to age 65 Female','Survival to age 65 Male',\n",
    "     'Population Growth Rate']\n",
    "coun=data['Country Name'].unique()\n",
    "for i in coun:\n",
    "    for j in col:\n",
    "        df=data_1[data_1['Country Name']==i]\n",
    "        df_mean=df[j].rolling(2,min_periods=1,).mean()\n",
    "        df[j].fillna(df_mean,inplace=True)\n",
    "\n",
    "        data_1[data_1['Country Name']==i]=df\n",
    "    \n",
    "data_1.isnull().sum()"
   ]
  },
  {
   "cell_type": "code",
   "execution_count": 52,
   "metadata": {},
   "outputs": [],
   "source": [
    "data_1.to_csv('24-03-2019.csv',index=False)"
   ]
  }
 ],
 "metadata": {
  "kernelspec": {
   "display_name": "Python 3",
   "language": "python",
   "name": "python3"
  },
  "language_info": {
   "codemirror_mode": {
    "name": "ipython",
    "version": 3
   },
   "file_extension": ".py",
   "mimetype": "text/x-python",
   "name": "python",
   "nbconvert_exporter": "python",
   "pygments_lexer": "ipython3",
   "version": "3.7.0"
  }
 },
 "nbformat": 4,
 "nbformat_minor": 2
}
